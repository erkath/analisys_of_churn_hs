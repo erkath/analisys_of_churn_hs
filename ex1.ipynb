{
 "cells": [
  {
   "cell_type": "code",
   "execution_count": 1,
   "metadata": {
    "colab": {
     "base_uri": "https://localhost:8080/"
    },
    "id": "QTCNZjTcqx-4",
    "outputId": "40a390dd-18f6-4cfd-8825-a9710ff47381"
   },
   "outputs": [],
   "source": [
    "import pandas as pd\n",
    "import numpy as np\n",
    "import matplotlib.pyplot as plt\n",
    "\n",
    "# from google.colab import drive\n",
    "\n",
    "# drive.mount('/content/drive')\n",
    "# !ls '/content/drive/My Drive/Diploma'\n"
   ]
  },
  {
   "cell_type": "code",
   "execution_count": 16,
   "metadata": {
    "colab": {
     "base_uri": "https://localhost:8080/",
     "height": 423
    },
    "id": "Y3d_n6uUKkkk",
    "outputId": "0600c852-4d95-44b5-b3ee-c9881b316cde"
   },
   "outputs": [
    {
     "data": {
      "text/html": [
       "<div>\n",
       "<style scoped>\n",
       "    .dataframe tbody tr th:only-of-type {\n",
       "        vertical-align: middle;\n",
       "    }\n",
       "\n",
       "    .dataframe tbody tr th {\n",
       "        vertical-align: top;\n",
       "    }\n",
       "\n",
       "    .dataframe thead th {\n",
       "        text-align: right;\n",
       "    }\n",
       "</style>\n",
       "<table border=\"1\" class=\"dataframe\">\n",
       "  <thead>\n",
       "    <tr style=\"text-align: right;\">\n",
       "      <th></th>\n",
       "      <th>user_hash</th>\n",
       "      <th>user_age</th>\n",
       "      <th>edu_action_dts_diff</th>\n",
       "    </tr>\n",
       "  </thead>\n",
       "  <tbody>\n",
       "    <tr>\n",
       "      <th>0</th>\n",
       "      <td>1337673019693833145</td>\n",
       "      <td>44948896</td>\n",
       "      <td>[75,50,48,31,111,55,2241750,45,39,69,318,88,55...</td>\n",
       "    </tr>\n",
       "    <tr>\n",
       "      <th>1</th>\n",
       "      <td>12399224692537823609</td>\n",
       "      <td>18075929</td>\n",
       "      <td>[38364,107,727,159,309,180,16,229,168,148,262,...</td>\n",
       "    </tr>\n",
       "    <tr>\n",
       "      <th>2</th>\n",
       "      <td>5048662895936071839</td>\n",
       "      <td>71747113</td>\n",
       "      <td>[43,21]</td>\n",
       "    </tr>\n",
       "    <tr>\n",
       "      <th>3</th>\n",
       "      <td>5559178310857390024</td>\n",
       "      <td>41381466</td>\n",
       "      <td>[35,172,118]</td>\n",
       "    </tr>\n",
       "    <tr>\n",
       "      <th>4</th>\n",
       "      <td>13199674104569162400</td>\n",
       "      <td>45961826</td>\n",
       "      <td>[214,223,63]</td>\n",
       "    </tr>\n",
       "    <tr>\n",
       "      <th>...</th>\n",
       "      <td>...</td>\n",
       "      <td>...</td>\n",
       "      <td>...</td>\n",
       "    </tr>\n",
       "    <tr>\n",
       "      <th>244848</th>\n",
       "      <td>11428639955678375885</td>\n",
       "      <td>44833916</td>\n",
       "      <td>[55,396,135,41,58,61,50,33,19,35,1388,31,53,13...</td>\n",
       "    </tr>\n",
       "    <tr>\n",
       "      <th>244849</th>\n",
       "      <td>18012949507887797844</td>\n",
       "      <td>43032189</td>\n",
       "      <td>[42,34,57]</td>\n",
       "    </tr>\n",
       "    <tr>\n",
       "      <th>244850</th>\n",
       "      <td>6824619557279793970</td>\n",
       "      <td>38895754</td>\n",
       "      <td>[116,110,46,56]</td>\n",
       "    </tr>\n",
       "    <tr>\n",
       "      <th>244851</th>\n",
       "      <td>11808724736265319250</td>\n",
       "      <td>7516504</td>\n",
       "      <td>[243,154,180,53,144,64,59,158,1715,53,18,52,14...</td>\n",
       "    </tr>\n",
       "    <tr>\n",
       "      <th>244852</th>\n",
       "      <td>15405230984075057120</td>\n",
       "      <td>44762803</td>\n",
       "      <td>[66,44,308,55,52,73,35,274,31,55,92,60,124,27,...</td>\n",
       "    </tr>\n",
       "  </tbody>\n",
       "</table>\n",
       "<p>244853 rows × 3 columns</p>\n",
       "</div>"
      ],
      "text/plain": [
       "                   user_hash  user_age  \\\n",
       "0        1337673019693833145  44948896   \n",
       "1       12399224692537823609  18075929   \n",
       "2        5048662895936071839  71747113   \n",
       "3        5559178310857390024  41381466   \n",
       "4       13199674104569162400  45961826   \n",
       "...                      ...       ...   \n",
       "244848  11428639955678375885  44833916   \n",
       "244849  18012949507887797844  43032189   \n",
       "244850   6824619557279793970  38895754   \n",
       "244851  11808724736265319250   7516504   \n",
       "244852  15405230984075057120  44762803   \n",
       "\n",
       "                                      edu_action_dts_diff  \n",
       "0       [75,50,48,31,111,55,2241750,45,39,69,318,88,55...  \n",
       "1       [38364,107,727,159,309,180,16,229,168,148,262,...  \n",
       "2                                                 [43,21]  \n",
       "3                                            [35,172,118]  \n",
       "4                                            [214,223,63]  \n",
       "...                                                   ...  \n",
       "244848  [55,396,135,41,58,61,50,33,19,35,1388,31,53,13...  \n",
       "244849                                         [42,34,57]  \n",
       "244850                                    [116,110,46,56]  \n",
       "244851  [243,154,180,53,144,64,59,158,1715,53,18,52,14...  \n",
       "244852  [66,44,308,55,52,73,35,274,31,55,92,60,124,27,...  \n",
       "\n",
       "[244853 rows x 3 columns]"
      ]
     },
     "execution_count": 16,
     "metadata": {},
     "output_type": "execute_result"
    }
   ],
   "source": [
    "data = pd.read_csv('AN-825.csv')\n",
    "data"
   ]
  },
  {
   "cell_type": "code",
   "execution_count": 17,
   "metadata": {
    "id": "2ZGE4xdyL5w_"
   },
   "outputs": [],
   "source": [
    "from functions import make_list_from_string"
   ]
  },
  {
   "cell_type": "code",
   "execution_count": 18,
   "metadata": {},
   "outputs": [
    {
     "data": {
      "text/plain": [
       "'[75,50,48,31,111,55,2241750,45,39,69,318,88,55,1199,57,79,164,27,25,568,32,67,23,58,23,16,22,20,19831,28,21,43,73,26,30,23,1616,15,1863,2126,1584,2014,16,142,579,1531,51,50,63,58,62,44,103,34,31,15,27,5340,64,32,31,478,349,40,93,104,22464,1904,52,41,41,27,78,24,63,26,18,14,25,29,22,25,229,48,113,196,213,1260,39,79,37,28,2511,415,94,574,89,14,16,19,25,16,15,700,24,92,82,228,35,21,30578,20,1111,4458,595,37,93,219,511,41991,22058,67,118,70,533,137,37,39,28,29,32,68,183,468,14,185,234,2253,5606,764,745,381,75,572,73,66,57,146,334,218,258,273,46140,869,82,71,46,82,1295,37,201,305,1447,4773,1747,180,540,1094,160,834,29,170,62,3645,3856,236,448,42,275,1868,740,1404,23458,2112,78,902,316,31084,77,59,1168,220,15054,3529,21874,9202,143,235,267,36632,2346,115,1402,2824,241,90074,12667,14,151,1359,269,3013,38,253,54,38,3742,139,620,969,104451,130248,80327,16,31,31,578,15,31,34,296,3679,51,432,362,4179,868,15,16,31,19,24806,15,19,16,68,12995,28,35,434,1791,71753,43,57,94,4666,282,9179,315454,26358,33,138,78,74,502,2664,69,212,124,84,38694,178,178,36,274,927,70,186,84,310,533,56,64,150,184,2721,426,1920,12593,1204,926,4896,601,9199,13365,87,30863,3551,8549,61,43,1353,28,108,264,68940,53,316,272,1270,1695,565,244,500,4177,582,383,210,80,10364,850,346,128,58,318,20589,145,91,129,486,949,455,132,45,175,280,3912,5086,37,62,76,32620,1236,132,1464,513,1967,41,200,1540,80806,5307,88,126,141,1380,16118,477,180,567,95733,54693,25,202,3247,2542,1945,22458,17,48,379,180202,21,37,16,44,19,42,1549,34,16,19,22,19,5278,14,68,31,28,296,57,55,180,338,4131,116,60,38,532,29,26,442,94,33,150,53,92,33,1387,21,25,78,38003,84,250,154,3164,18,23,9428,50,15,133,64829,48,67,222,4765,18,29,79,116,45798,21,34961,32,132,1926,65,83,57,130,28,176279,170508,46,127,3242,2690,33933,34,62,23,74,33,11,4486,70,124,95,219,88,4948,41413,65,63,49,85,102]'"
      ]
     },
     "execution_count": 18,
     "metadata": {},
     "output_type": "execute_result"
    }
   ],
   "source": [
    "data['edu_action_dts_diff'][0]"
   ]
  },
  {
   "cell_type": "code",
   "execution_count": 19,
   "metadata": {},
   "outputs": [],
   "source": [
    "def ident(x):\n",
    "    return x\n",
    "\n",
    "def make_list_from_string(x: str, type_=str) -> np.array:\n",
    "    x = x[1:-1]\n",
    "    return np.array([i for i in x.split(',')]).astype(type_)\n"
   ]
  },
  {
   "cell_type": "code",
   "execution_count": 20,
   "metadata": {
    "colab": {
     "base_uri": "https://localhost:8080/"
    },
    "id": "xYTiBNRpoAuN",
    "outputId": "46c8f0e1-ef7c-431a-a668-c9c31f8f0365"
   },
   "outputs": [
    {
     "data": {
      "text/plain": [
       "numpy.ndarray"
      ]
     },
     "execution_count": 20,
     "metadata": {},
     "output_type": "execute_result"
    }
   ],
   "source": [
    "data['edu_action_dts_diff'] = data['edu_action_dts_diff'].apply(make_list_from_string, type_=int)\n",
    "type(data['edu_action_dts_diff'].loc[0])\n"
   ]
  },
  {
   "cell_type": "code",
   "execution_count": 21,
   "metadata": {},
   "outputs": [
    {
     "data": {
      "text/plain": [
       "array([     75,      50,      48,      31,     111,      55, 2241750,\n",
       "            45,      39,      69,     318,      88,      55,    1199,\n",
       "            57,      79,     164,      27,      25,     568,      32,\n",
       "            67,      23,      58,      23,      16,      22,      20,\n",
       "         19831,      28,      21,      43,      73,      26,      30,\n",
       "            23,    1616,      15,    1863,    2126,    1584,    2014,\n",
       "            16,     142,     579,    1531,      51,      50,      63,\n",
       "            58,      62,      44,     103,      34,      31,      15,\n",
       "            27,    5340,      64,      32,      31,     478,     349,\n",
       "            40,      93,     104,   22464,    1904,      52,      41,\n",
       "            41,      27,      78,      24,      63,      26,      18,\n",
       "            14,      25,      29,      22,      25,     229,      48,\n",
       "           113,     196,     213,    1260,      39,      79,      37,\n",
       "            28,    2511,     415,      94,     574,      89,      14,\n",
       "            16,      19,      25,      16,      15,     700,      24,\n",
       "            92,      82,     228,      35,      21,   30578,      20,\n",
       "          1111,    4458,     595,      37,      93,     219,     511,\n",
       "         41991,   22058,      67,     118,      70,     533,     137,\n",
       "            37,      39,      28,      29,      32,      68,     183,\n",
       "           468,      14,     185,     234,    2253,    5606,     764,\n",
       "           745,     381,      75,     572,      73,      66,      57,\n",
       "           146,     334,     218,     258,     273,   46140,     869,\n",
       "            82,      71,      46,      82,    1295,      37,     201,\n",
       "           305,    1447,    4773,    1747,     180,     540,    1094,\n",
       "           160,     834,      29,     170,      62,    3645,    3856,\n",
       "           236,     448,      42,     275,    1868,     740,    1404,\n",
       "         23458,    2112,      78,     902,     316,   31084,      77,\n",
       "            59,    1168,     220,   15054,    3529,   21874,    9202,\n",
       "           143,     235,     267,   36632,    2346,     115,    1402,\n",
       "          2824,     241,   90074,   12667,      14,     151,    1359,\n",
       "           269,    3013,      38,     253,      54,      38,    3742,\n",
       "           139,     620,     969,  104451,  130248,   80327,      16,\n",
       "            31,      31,     578,      15,      31,      34,     296,\n",
       "          3679,      51,     432,     362,    4179,     868,      15,\n",
       "            16,      31,      19,   24806,      15,      19,      16,\n",
       "            68,   12995,      28,      35,     434,    1791,   71753,\n",
       "            43,      57,      94,    4666,     282,    9179,  315454,\n",
       "         26358,      33,     138,      78,      74,     502,    2664,\n",
       "            69,     212,     124,      84,   38694,     178,     178,\n",
       "            36,     274,     927,      70,     186,      84,     310,\n",
       "           533,      56,      64,     150,     184,    2721,     426,\n",
       "          1920,   12593,    1204,     926,    4896,     601,    9199,\n",
       "         13365,      87,   30863,    3551,    8549,      61,      43,\n",
       "          1353,      28,     108,     264,   68940,      53,     316,\n",
       "           272,    1270,    1695,     565,     244,     500,    4177,\n",
       "           582,     383,     210,      80,   10364,     850,     346,\n",
       "           128,      58,     318,   20589,     145,      91,     129,\n",
       "           486,     949,     455,     132,      45,     175,     280,\n",
       "          3912,    5086,      37,      62,      76,   32620,    1236,\n",
       "           132,    1464,     513,    1967,      41,     200,    1540,\n",
       "         80806,    5307,      88,     126,     141,    1380,   16118,\n",
       "           477,     180,     567,   95733,   54693,      25,     202,\n",
       "          3247,    2542,    1945,   22458,      17,      48,     379,\n",
       "        180202,      21,      37,      16,      44,      19,      42,\n",
       "          1549,      34,      16,      19,      22,      19,    5278,\n",
       "            14,      68,      31,      28,     296,      57,      55,\n",
       "           180,     338,    4131,     116,      60,      38,     532,\n",
       "            29,      26,     442,      94,      33,     150,      53,\n",
       "            92,      33,    1387,      21,      25,      78,   38003,\n",
       "            84,     250,     154,    3164,      18,      23,    9428,\n",
       "            50,      15,     133,   64829,      48,      67,     222,\n",
       "          4765,      18,      29,      79,     116,   45798,      21,\n",
       "         34961,      32,     132,    1926,      65,      83,      57,\n",
       "           130,      28,  176279,  170508,      46,     127,    3242,\n",
       "          2690,   33933,      34,      62,      23,      74,      33,\n",
       "            11,    4486,      70,     124,      95,     219,      88,\n",
       "          4948,   41413,      65,      63,      49,      85,     102])"
      ]
     },
     "execution_count": 21,
     "metadata": {},
     "output_type": "execute_result"
    }
   ],
   "source": [
    "data['edu_action_dts_diff'].loc[0]"
   ]
  },
  {
   "cell_type": "code",
   "execution_count": 5,
   "metadata": {
    "colab": {
     "base_uri": "https://localhost:8080/"
    },
    "id": "Q2fbBJBpMwWe",
    "outputId": "57838342-6b51-4bc0-d77d-81eac071638f"
   },
   "outputs": [
    {
     "data": {
      "text/plain": [
       "user_hash              uint64\n",
       "user_age                int64\n",
       "edu_action_dts_diff    object\n",
       "dtype: object"
      ]
     },
     "execution_count": 5,
     "metadata": {},
     "output_type": "execute_result"
    }
   ],
   "source": [
    "type(data)\n",
    "data.columns\n",
    "data.dtypes"
   ]
  },
  {
   "cell_type": "code",
   "execution_count": 6,
   "metadata": {
    "colab": {
     "base_uri": "https://localhost:8080/",
     "height": 423
    },
    "id": "Wrce2A3fAS8r",
    "outputId": "de72201f-4aae-407d-f989-aa9570e4b2ab"
   },
   "outputs": [
    {
     "data": {
      "text/html": [
       "<div>\n",
       "<style scoped>\n",
       "    .dataframe tbody tr th:only-of-type {\n",
       "        vertical-align: middle;\n",
       "    }\n",
       "\n",
       "    .dataframe tbody tr th {\n",
       "        vertical-align: top;\n",
       "    }\n",
       "\n",
       "    .dataframe thead th {\n",
       "        text-align: right;\n",
       "    }\n",
       "</style>\n",
       "<table border=\"1\" class=\"dataframe\">\n",
       "  <thead>\n",
       "    <tr style=\"text-align: right;\">\n",
       "      <th></th>\n",
       "      <th>user_hash</th>\n",
       "      <th>user_age</th>\n",
       "      <th>edu_action_dts_diff</th>\n",
       "      <th>max_values</th>\n",
       "    </tr>\n",
       "  </thead>\n",
       "  <tbody>\n",
       "    <tr>\n",
       "      <th>0</th>\n",
       "      <td>1337673019693833145</td>\n",
       "      <td>44948896</td>\n",
       "      <td>[75, 50, 48, 31, 111, 55, 2241750, 45, 39, 69,...</td>\n",
       "      <td>2241750</td>\n",
       "    </tr>\n",
       "    <tr>\n",
       "      <th>1</th>\n",
       "      <td>12399224692537823609</td>\n",
       "      <td>18075929</td>\n",
       "      <td>[38364, 107, 727, 159, 309, 180, 16, 229, 168,...</td>\n",
       "      <td>79614</td>\n",
       "    </tr>\n",
       "    <tr>\n",
       "      <th>2</th>\n",
       "      <td>5048662895936071839</td>\n",
       "      <td>71747113</td>\n",
       "      <td>[43, 21]</td>\n",
       "      <td>43</td>\n",
       "    </tr>\n",
       "    <tr>\n",
       "      <th>3</th>\n",
       "      <td>5559178310857390024</td>\n",
       "      <td>41381466</td>\n",
       "      <td>[35, 172, 118]</td>\n",
       "      <td>172</td>\n",
       "    </tr>\n",
       "    <tr>\n",
       "      <th>4</th>\n",
       "      <td>13199674104569162400</td>\n",
       "      <td>45961826</td>\n",
       "      <td>[214, 223, 63]</td>\n",
       "      <td>223</td>\n",
       "    </tr>\n",
       "    <tr>\n",
       "      <th>...</th>\n",
       "      <td>...</td>\n",
       "      <td>...</td>\n",
       "      <td>...</td>\n",
       "      <td>...</td>\n",
       "    </tr>\n",
       "    <tr>\n",
       "      <th>244848</th>\n",
       "      <td>11428639955678375885</td>\n",
       "      <td>44833916</td>\n",
       "      <td>[55, 396, 135, 41, 58, 61, 50, 33, 19, 35, 138...</td>\n",
       "      <td>31906</td>\n",
       "    </tr>\n",
       "    <tr>\n",
       "      <th>244849</th>\n",
       "      <td>18012949507887797844</td>\n",
       "      <td>43032189</td>\n",
       "      <td>[42, 34, 57]</td>\n",
       "      <td>57</td>\n",
       "    </tr>\n",
       "    <tr>\n",
       "      <th>244850</th>\n",
       "      <td>6824619557279793970</td>\n",
       "      <td>38895754</td>\n",
       "      <td>[116, 110, 46, 56]</td>\n",
       "      <td>116</td>\n",
       "    </tr>\n",
       "    <tr>\n",
       "      <th>244851</th>\n",
       "      <td>11808724736265319250</td>\n",
       "      <td>7516504</td>\n",
       "      <td>[243, 154, 180, 53, 144, 64, 59, 158, 1715, 53...</td>\n",
       "      <td>338624</td>\n",
       "    </tr>\n",
       "    <tr>\n",
       "      <th>244852</th>\n",
       "      <td>15405230984075057120</td>\n",
       "      <td>44762803</td>\n",
       "      <td>[66, 44, 308, 55, 52, 73, 35, 274, 31, 55, 92,...</td>\n",
       "      <td>4045454</td>\n",
       "    </tr>\n",
       "  </tbody>\n",
       "</table>\n",
       "<p>244853 rows × 4 columns</p>\n",
       "</div>"
      ],
      "text/plain": [
       "                   user_hash  user_age  \\\n",
       "0        1337673019693833145  44948896   \n",
       "1       12399224692537823609  18075929   \n",
       "2        5048662895936071839  71747113   \n",
       "3        5559178310857390024  41381466   \n",
       "4       13199674104569162400  45961826   \n",
       "...                      ...       ...   \n",
       "244848  11428639955678375885  44833916   \n",
       "244849  18012949507887797844  43032189   \n",
       "244850   6824619557279793970  38895754   \n",
       "244851  11808724736265319250   7516504   \n",
       "244852  15405230984075057120  44762803   \n",
       "\n",
       "                                      edu_action_dts_diff  max_values  \n",
       "0       [75, 50, 48, 31, 111, 55, 2241750, 45, 39, 69,...     2241750  \n",
       "1       [38364, 107, 727, 159, 309, 180, 16, 229, 168,...       79614  \n",
       "2                                                [43, 21]          43  \n",
       "3                                          [35, 172, 118]         172  \n",
       "4                                          [214, 223, 63]         223  \n",
       "...                                                   ...         ...  \n",
       "244848  [55, 396, 135, 41, 58, 61, 50, 33, 19, 35, 138...       31906  \n",
       "244849                                       [42, 34, 57]          57  \n",
       "244850                                 [116, 110, 46, 56]         116  \n",
       "244851  [243, 154, 180, 53, 144, 64, 59, 158, 1715, 53...      338624  \n",
       "244852  [66, 44, 308, 55, 52, 73, 35, 274, 31, 55, 92,...     4045454  \n",
       "\n",
       "[244853 rows x 4 columns]"
      ]
     },
     "execution_count": 6,
     "metadata": {},
     "output_type": "execute_result"
    }
   ],
   "source": [
    "data['max_values'] = data['edu_action_dts_diff'].apply(np.max)\n",
    "data"
   ]
  },
  {
   "cell_type": "code",
   "execution_count": 7,
   "metadata": {
    "colab": {
     "base_uri": "https://localhost:8080/",
     "height": 296
    },
    "id": "Y-ePZP1ECYMp",
    "outputId": "e24cea57-12c2-464e-b9db-df063f676f13"
   },
   "outputs": [
    {
     "data": {
      "image/png": "[encoded data removed]",
      "text/plain": [
       "<Figure size 432x288 with 1 Axes>"
      ]
     },
     "metadata": {
      "needs_background": "light"
     },
     "output_type": "display_data"
    }
   ],
   "source": [
    "data.max_values.hist(bins=256)\n",
    "plt.yscale('log')\n",
    "plt.title('Распределение максимальных перерывов в обучении')\n",
    "plt.xlabel('max_breaks')\n",
    "plt.show()"
   ]
  },
  {
   "cell_type": "code",
   "execution_count": 8,
   "metadata": {
    "colab": {
     "base_uri": "https://localhost:8080/",
     "height": 278
    },
    "id": "aSc9hu6_HhjZ",
    "outputId": "fc4c2fac-e706-44e8-d22e-0424ebfbebab"
   },
   "outputs": [],
   "source": [
    "# data.user_age.hist(bins=256)\n",
    "# # plt.yscale('log')\n",
    "# plt.show()"
   ]
  },
  {
   "cell_type": "code",
   "execution_count": 9,
   "metadata": {
    "colab": {
     "base_uri": "https://localhost:8080/",
     "height": 423
    },
    "id": "PKqbqsIFz_mh",
    "outputId": "3a908cae-3ca2-450b-d2dc-f967f0a3fe24"
   },
   "outputs": [
    {
     "data": {
      "text/html": [
       "<div>\n",
       "<style scoped>\n",
       "    .dataframe tbody tr th:only-of-type {\n",
       "        vertical-align: middle;\n",
       "    }\n",
       "\n",
       "    .dataframe tbody tr th {\n",
       "        vertical-align: top;\n",
       "    }\n",
       "\n",
       "    .dataframe thead th {\n",
       "        text-align: right;\n",
       "    }\n",
       "</style>\n",
       "<table border=\"1\" class=\"dataframe\">\n",
       "  <thead>\n",
       "    <tr style=\"text-align: right;\">\n",
       "      <th></th>\n",
       "      <th>user_hash</th>\n",
       "      <th>user_age</th>\n",
       "      <th>edu_action_dts_diff</th>\n",
       "      <th>max_values</th>\n",
       "      <th>relative_max</th>\n",
       "    </tr>\n",
       "  </thead>\n",
       "  <tbody>\n",
       "    <tr>\n",
       "      <th>0</th>\n",
       "      <td>1337673019693833145</td>\n",
       "      <td>44948896</td>\n",
       "      <td>[75, 50, 48, 31, 111, 55, 2241750, 45, 39, 69,...</td>\n",
       "      <td>2241750</td>\n",
       "      <td>4.987331e-02</td>\n",
       "    </tr>\n",
       "    <tr>\n",
       "      <th>1</th>\n",
       "      <td>12399224692537823609</td>\n",
       "      <td>18075929</td>\n",
       "      <td>[38364, 107, 727, 159, 309, 180, 16, 229, 168,...</td>\n",
       "      <td>79614</td>\n",
       "      <td>4.404421e-03</td>\n",
       "    </tr>\n",
       "    <tr>\n",
       "      <th>2</th>\n",
       "      <td>5048662895936071839</td>\n",
       "      <td>71747113</td>\n",
       "      <td>[43, 21]</td>\n",
       "      <td>43</td>\n",
       "      <td>5.993273e-07</td>\n",
       "    </tr>\n",
       "    <tr>\n",
       "      <th>3</th>\n",
       "      <td>5559178310857390024</td>\n",
       "      <td>41381466</td>\n",
       "      <td>[35, 172, 118]</td>\n",
       "      <td>172</td>\n",
       "      <td>4.156450e-06</td>\n",
       "    </tr>\n",
       "    <tr>\n",
       "      <th>4</th>\n",
       "      <td>13199674104569162400</td>\n",
       "      <td>45961826</td>\n",
       "      <td>[214, 223, 63]</td>\n",
       "      <td>223</td>\n",
       "      <td>4.851852e-06</td>\n",
       "    </tr>\n",
       "    <tr>\n",
       "      <th>...</th>\n",
       "      <td>...</td>\n",
       "      <td>...</td>\n",
       "      <td>...</td>\n",
       "      <td>...</td>\n",
       "      <td>...</td>\n",
       "    </tr>\n",
       "    <tr>\n",
       "      <th>244848</th>\n",
       "      <td>11428639955678375885</td>\n",
       "      <td>44833916</td>\n",
       "      <td>[55, 396, 135, 41, 58, 61, 50, 33, 19, 35, 138...</td>\n",
       "      <td>31906</td>\n",
       "      <td>7.116487e-04</td>\n",
       "    </tr>\n",
       "    <tr>\n",
       "      <th>244849</th>\n",
       "      <td>18012949507887797844</td>\n",
       "      <td>43032189</td>\n",
       "      <td>[42, 34, 57]</td>\n",
       "      <td>57</td>\n",
       "      <td>1.324590e-06</td>\n",
       "    </tr>\n",
       "    <tr>\n",
       "      <th>244850</th>\n",
       "      <td>6824619557279793970</td>\n",
       "      <td>38895754</td>\n",
       "      <td>[116, 110, 46, 56]</td>\n",
       "      <td>116</td>\n",
       "      <td>2.982331e-06</td>\n",
       "    </tr>\n",
       "    <tr>\n",
       "      <th>244851</th>\n",
       "      <td>11808724736265319250</td>\n",
       "      <td>7516504</td>\n",
       "      <td>[243, 154, 180, 53, 144, 64, 59, 158, 1715, 53...</td>\n",
       "      <td>338624</td>\n",
       "      <td>4.505073e-02</td>\n",
       "    </tr>\n",
       "    <tr>\n",
       "      <th>244852</th>\n",
       "      <td>15405230984075057120</td>\n",
       "      <td>44762803</td>\n",
       "      <td>[66, 44, 308, 55, 52, 73, 35, 274, 31, 55, 92,...</td>\n",
       "      <td>4045454</td>\n",
       "      <td>9.037535e-02</td>\n",
       "    </tr>\n",
       "  </tbody>\n",
       "</table>\n",
       "<p>244853 rows × 5 columns</p>\n",
       "</div>"
      ],
      "text/plain": [
       "                   user_hash  user_age  \\\n",
       "0        1337673019693833145  44948896   \n",
       "1       12399224692537823609  18075929   \n",
       "2        5048662895936071839  71747113   \n",
       "3        5559178310857390024  41381466   \n",
       "4       13199674104569162400  45961826   \n",
       "...                      ...       ...   \n",
       "244848  11428639955678375885  44833916   \n",
       "244849  18012949507887797844  43032189   \n",
       "244850   6824619557279793970  38895754   \n",
       "244851  11808724736265319250   7516504   \n",
       "244852  15405230984075057120  44762803   \n",
       "\n",
       "                                      edu_action_dts_diff  max_values  \\\n",
       "0       [75, 50, 48, 31, 111, 55, 2241750, 45, 39, 69,...     2241750   \n",
       "1       [38364, 107, 727, 159, 309, 180, 16, 229, 168,...       79614   \n",
       "2                                                [43, 21]          43   \n",
       "3                                          [35, 172, 118]         172   \n",
       "4                                          [214, 223, 63]         223   \n",
       "...                                                   ...         ...   \n",
       "244848  [55, 396, 135, 41, 58, 61, 50, 33, 19, 35, 138...       31906   \n",
       "244849                                       [42, 34, 57]          57   \n",
       "244850                                 [116, 110, 46, 56]         116   \n",
       "244851  [243, 154, 180, 53, 144, 64, 59, 158, 1715, 53...      338624   \n",
       "244852  [66, 44, 308, 55, 52, 73, 35, 274, 31, 55, 92,...     4045454   \n",
       "\n",
       "        relative_max  \n",
       "0       4.987331e-02  \n",
       "1       4.404421e-03  \n",
       "2       5.993273e-07  \n",
       "3       4.156450e-06  \n",
       "4       4.851852e-06  \n",
       "...              ...  \n",
       "244848  7.116487e-04  \n",
       "244849  1.324590e-06  \n",
       "244850  2.982331e-06  \n",
       "244851  4.505073e-02  \n",
       "244852  9.037535e-02  \n",
       "\n",
       "[244853 rows x 5 columns]"
      ]
     },
     "execution_count": 9,
     "metadata": {},
     "output_type": "execute_result"
    }
   ],
   "source": [
    "data['relative_max'] = data['max_values'] / data['user_age']\n",
    "data"
   ]
  },
  {
   "cell_type": "code",
   "execution_count": 10,
   "metadata": {
    "colab": {
     "base_uri": "https://localhost:8080/",
     "height": 296
    },
    "id": "ZtB3Ssz60wpC",
    "outputId": "56859cbe-12a1-4878-e527-0374d62add51"
   },
   "outputs": [
    {
     "data": {
      "image/png": "[encoded data removed]",
      "text/plain": [
       "<Figure size 432x288 with 1 Axes>"
      ]
     },
     "metadata": {
      "needs_background": "light"
     },
     "output_type": "display_data"
    }
   ],
   "source": [
    "data.relative_max.hist(bins = 1000)\n",
    "plt.yscale('log')\n",
    "plt.title('Распределение отноительных максимальных перерывов в обучении')\n",
    "plt.xlabel('relative_max')\n",
    "plt.show()"
   ]
  },
  {
   "cell_type": "code",
   "execution_count": 11,
   "metadata": {
    "colab": {
     "base_uri": "https://localhost:8080/",
     "height": 423
    },
    "id": "ucUsU3Kf1q4B",
    "outputId": "57694ca5-b1bb-4989-c28e-fb2285849000"
   },
   "outputs": [
    {
     "data": {
      "text/html": [
       "<div>\n",
       "<style scoped>\n",
       "    .dataframe tbody tr th:only-of-type {\n",
       "        vertical-align: middle;\n",
       "    }\n",
       "\n",
       "    .dataframe tbody tr th {\n",
       "        vertical-align: top;\n",
       "    }\n",
       "\n",
       "    .dataframe thead th {\n",
       "        text-align: right;\n",
       "    }\n",
       "</style>\n",
       "<table border=\"1\" class=\"dataframe\">\n",
       "  <thead>\n",
       "    <tr style=\"text-align: right;\">\n",
       "      <th></th>\n",
       "      <th>user_hash</th>\n",
       "      <th>user_age</th>\n",
       "      <th>edu_action_dts_diff</th>\n",
       "      <th>max_values</th>\n",
       "      <th>relative_max</th>\n",
       "      <th>number_of_breaks</th>\n",
       "    </tr>\n",
       "  </thead>\n",
       "  <tbody>\n",
       "    <tr>\n",
       "      <th>0</th>\n",
       "      <td>1337673019693833145</td>\n",
       "      <td>44948896</td>\n",
       "      <td>[75, 50, 48, 31, 111, 55, 2241750, 45, 39, 69,...</td>\n",
       "      <td>2241750</td>\n",
       "      <td>4.987331e-02</td>\n",
       "      <td>469</td>\n",
       "    </tr>\n",
       "    <tr>\n",
       "      <th>1</th>\n",
       "      <td>12399224692537823609</td>\n",
       "      <td>18075929</td>\n",
       "      <td>[38364, 107, 727, 159, 309, 180, 16, 229, 168,...</td>\n",
       "      <td>79614</td>\n",
       "      <td>4.404421e-03</td>\n",
       "      <td>47</td>\n",
       "    </tr>\n",
       "    <tr>\n",
       "      <th>2</th>\n",
       "      <td>5048662895936071839</td>\n",
       "      <td>71747113</td>\n",
       "      <td>[43, 21]</td>\n",
       "      <td>43</td>\n",
       "      <td>5.993273e-07</td>\n",
       "      <td>2</td>\n",
       "    </tr>\n",
       "    <tr>\n",
       "      <th>3</th>\n",
       "      <td>5559178310857390024</td>\n",
       "      <td>41381466</td>\n",
       "      <td>[35, 172, 118]</td>\n",
       "      <td>172</td>\n",
       "      <td>4.156450e-06</td>\n",
       "      <td>3</td>\n",
       "    </tr>\n",
       "    <tr>\n",
       "      <th>4</th>\n",
       "      <td>13199674104569162400</td>\n",
       "      <td>45961826</td>\n",
       "      <td>[214, 223, 63]</td>\n",
       "      <td>223</td>\n",
       "      <td>4.851852e-06</td>\n",
       "      <td>3</td>\n",
       "    </tr>\n",
       "    <tr>\n",
       "      <th>...</th>\n",
       "      <td>...</td>\n",
       "      <td>...</td>\n",
       "      <td>...</td>\n",
       "      <td>...</td>\n",
       "      <td>...</td>\n",
       "      <td>...</td>\n",
       "    </tr>\n",
       "    <tr>\n",
       "      <th>244848</th>\n",
       "      <td>11428639955678375885</td>\n",
       "      <td>44833916</td>\n",
       "      <td>[55, 396, 135, 41, 58, 61, 50, 33, 19, 35, 138...</td>\n",
       "      <td>31906</td>\n",
       "      <td>7.116487e-04</td>\n",
       "      <td>111</td>\n",
       "    </tr>\n",
       "    <tr>\n",
       "      <th>244849</th>\n",
       "      <td>18012949507887797844</td>\n",
       "      <td>43032189</td>\n",
       "      <td>[42, 34, 57]</td>\n",
       "      <td>57</td>\n",
       "      <td>1.324590e-06</td>\n",
       "      <td>3</td>\n",
       "    </tr>\n",
       "    <tr>\n",
       "      <th>244850</th>\n",
       "      <td>6824619557279793970</td>\n",
       "      <td>38895754</td>\n",
       "      <td>[116, 110, 46, 56]</td>\n",
       "      <td>116</td>\n",
       "      <td>2.982331e-06</td>\n",
       "      <td>4</td>\n",
       "    </tr>\n",
       "    <tr>\n",
       "      <th>244851</th>\n",
       "      <td>11808724736265319250</td>\n",
       "      <td>7516504</td>\n",
       "      <td>[243, 154, 180, 53, 144, 64, 59, 158, 1715, 53...</td>\n",
       "      <td>338624</td>\n",
       "      <td>4.505073e-02</td>\n",
       "      <td>215</td>\n",
       "    </tr>\n",
       "    <tr>\n",
       "      <th>244852</th>\n",
       "      <td>15405230984075057120</td>\n",
       "      <td>44762803</td>\n",
       "      <td>[66, 44, 308, 55, 52, 73, 35, 274, 31, 55, 92,...</td>\n",
       "      <td>4045454</td>\n",
       "      <td>9.037535e-02</td>\n",
       "      <td>55</td>\n",
       "    </tr>\n",
       "  </tbody>\n",
       "</table>\n",
       "<p>244853 rows × 6 columns</p>\n",
       "</div>"
      ],
      "text/plain": [
       "                   user_hash  user_age  \\\n",
       "0        1337673019693833145  44948896   \n",
       "1       12399224692537823609  18075929   \n",
       "2        5048662895936071839  71747113   \n",
       "3        5559178310857390024  41381466   \n",
       "4       13199674104569162400  45961826   \n",
       "...                      ...       ...   \n",
       "244848  11428639955678375885  44833916   \n",
       "244849  18012949507887797844  43032189   \n",
       "244850   6824619557279793970  38895754   \n",
       "244851  11808724736265319250   7516504   \n",
       "244852  15405230984075057120  44762803   \n",
       "\n",
       "                                      edu_action_dts_diff  max_values  \\\n",
       "0       [75, 50, 48, 31, 111, 55, 2241750, 45, 39, 69,...     2241750   \n",
       "1       [38364, 107, 727, 159, 309, 180, 16, 229, 168,...       79614   \n",
       "2                                                [43, 21]          43   \n",
       "3                                          [35, 172, 118]         172   \n",
       "4                                          [214, 223, 63]         223   \n",
       "...                                                   ...         ...   \n",
       "244848  [55, 396, 135, 41, 58, 61, 50, 33, 19, 35, 138...       31906   \n",
       "244849                                       [42, 34, 57]          57   \n",
       "244850                                 [116, 110, 46, 56]         116   \n",
       "244851  [243, 154, 180, 53, 144, 64, 59, 158, 1715, 53...      338624   \n",
       "244852  [66, 44, 308, 55, 52, 73, 35, 274, 31, 55, 92,...     4045454   \n",
       "\n",
       "        relative_max  number_of_breaks  \n",
       "0       4.987331e-02               469  \n",
       "1       4.404421e-03                47  \n",
       "2       5.993273e-07                 2  \n",
       "3       4.156450e-06                 3  \n",
       "4       4.851852e-06                 3  \n",
       "...              ...               ...  \n",
       "244848  7.116487e-04               111  \n",
       "244849  1.324590e-06                 3  \n",
       "244850  2.982331e-06                 4  \n",
       "244851  4.505073e-02               215  \n",
       "244852  9.037535e-02                55  \n",
       "\n",
       "[244853 rows x 6 columns]"
      ]
     },
     "execution_count": 11,
     "metadata": {},
     "output_type": "execute_result"
    }
   ],
   "source": [
    "data['number_of_breaks'] = data.edu_action_dts_diff.apply(len)\n",
    "data"
   ]
  },
  {
   "cell_type": "code",
   "execution_count": 12,
   "metadata": {
    "colab": {
     "base_uri": "https://localhost:8080/",
     "height": 206
    },
    "id": "vo8H651Q2EJk",
    "outputId": "1eb7e441-c36e-41be-f744-1df388a633b6"
   },
   "outputs": [
    {
     "data": {
      "text/html": [
       "<div>\n",
       "<style scoped>\n",
       "    .dataframe tbody tr th:only-of-type {\n",
       "        vertical-align: middle;\n",
       "    }\n",
       "\n",
       "    .dataframe tbody tr th {\n",
       "        vertical-align: top;\n",
       "    }\n",
       "\n",
       "    .dataframe thead th {\n",
       "        text-align: right;\n",
       "    }\n",
       "</style>\n",
       "<table border=\"1\" class=\"dataframe\">\n",
       "  <thead>\n",
       "    <tr style=\"text-align: right;\">\n",
       "      <th></th>\n",
       "      <th>user_hash</th>\n",
       "      <th>user_age</th>\n",
       "      <th>max_values</th>\n",
       "      <th>relative_max</th>\n",
       "      <th>number_of_breaks</th>\n",
       "    </tr>\n",
       "  </thead>\n",
       "  <tbody>\n",
       "    <tr>\n",
       "      <th>user_hash</th>\n",
       "      <td>1.000000</td>\n",
       "      <td>-0.000966</td>\n",
       "      <td>-0.002174</td>\n",
       "      <td>-0.001390</td>\n",
       "      <td>0.002074</td>\n",
       "    </tr>\n",
       "    <tr>\n",
       "      <th>user_age</th>\n",
       "      <td>-0.000966</td>\n",
       "      <td>1.000000</td>\n",
       "      <td>0.249805</td>\n",
       "      <td>-0.006956</td>\n",
       "      <td>0.048520</td>\n",
       "    </tr>\n",
       "    <tr>\n",
       "      <th>max_values</th>\n",
       "      <td>-0.002174</td>\n",
       "      <td>0.249805</td>\n",
       "      <td>1.000000</td>\n",
       "      <td>0.822025</td>\n",
       "      <td>0.223986</td>\n",
       "    </tr>\n",
       "    <tr>\n",
       "      <th>relative_max</th>\n",
       "      <td>-0.001390</td>\n",
       "      <td>-0.006956</td>\n",
       "      <td>0.822025</td>\n",
       "      <td>1.000000</td>\n",
       "      <td>0.234932</td>\n",
       "    </tr>\n",
       "    <tr>\n",
       "      <th>number_of_breaks</th>\n",
       "      <td>0.002074</td>\n",
       "      <td>0.048520</td>\n",
       "      <td>0.223986</td>\n",
       "      <td>0.234932</td>\n",
       "      <td>1.000000</td>\n",
       "    </tr>\n",
       "  </tbody>\n",
       "</table>\n",
       "</div>"
      ],
      "text/plain": [
       "                  user_hash  user_age  max_values  relative_max  \\\n",
       "user_hash          1.000000 -0.000966   -0.002174     -0.001390   \n",
       "user_age          -0.000966  1.000000    0.249805     -0.006956   \n",
       "max_values        -0.002174  0.249805    1.000000      0.822025   \n",
       "relative_max      -0.001390 -0.006956    0.822025      1.000000   \n",
       "number_of_breaks   0.002074  0.048520    0.223986      0.234932   \n",
       "\n",
       "                  number_of_breaks  \n",
       "user_hash                 0.002074  \n",
       "user_age                  0.048520  \n",
       "max_values                0.223986  \n",
       "relative_max              0.234932  \n",
       "number_of_breaks          1.000000  "
      ]
     },
     "execution_count": 12,
     "metadata": {},
     "output_type": "execute_result"
    }
   ],
   "source": [
    "data.corr()"
   ]
  },
  {
   "cell_type": "code",
   "execution_count": 13,
   "metadata": {
    "colab": {
     "base_uri": "https://localhost:8080/",
     "height": 265
    },
    "id": "5H8dIqXc5pNl",
    "outputId": "dcc88362-c531-4872-8bdb-7a4845e3d026"
   },
   "outputs": [],
   "source": [
    "# data.number_of_breaks.hist(bins=1000)\n",
    "# plt.yscale('log')\n",
    "# plt.show()"
   ]
  },
  {
   "cell_type": "code",
   "execution_count": 14,
   "metadata": {
    "id": "PE37u6467ER9"
   },
   "outputs": [],
   "source": [
    "list_breaks = []\n",
    "for x in data.edu_action_dts_diff:\n",
    "    list_breaks += x.tolist()"
   ]
  },
  {
   "cell_type": "code",
   "execution_count": 15,
   "metadata": {
    "colab": {
     "base_uri": "https://localhost:8080/",
     "height": 294
    },
    "id": "ftJVx91g756O",
    "outputId": "ba08ee2b-1ec3-49f7-d671-f2d0258fd090"
   },
   "outputs": [
    {
     "data": {
      "image/png": "[encoded data removed]",
      "text/plain": [
       "<Figure size 432x288 with 1 Axes>"
      ]
     },
     "metadata": {
      "needs_background": "light"
     },
     "output_type": "display_data"
    }
   ],
   "source": [
    "plt.hist(list_breaks, bins = 100)\n",
    "plt.title(':((')\n",
    "plt.yscale('log')\n",
    "plt.show()"
   ]
  },
  {
   "cell_type": "code",
   "execution_count": 16,
   "metadata": {
    "colab": {
     "base_uri": "https://localhost:8080/",
     "height": 294
    },
    "id": "eHfz9vzknWA9",
    "outputId": "0f58eea4-29d3-43f6-946e-684ef025ea5c"
   },
   "outputs": [],
   "source": [
    "# plt.hist(list_breaks, bins = 600, alpha = 0.6)\n",
    "# plt.hist(data.max_values, bins = 600, alpha = 0.5)\n",
    "# plt.title(':((')\n",
    "# plt.yscale('log')\n",
    "# plt.show()"
   ]
  },
  {
   "cell_type": "code",
   "execution_count": 17,
   "metadata": {
    "colab": {
     "base_uri": "https://localhost:8080/",
     "height": 308
    },
    "id": "Uu2VMTbrqbgR",
    "outputId": "20944f73-8e82-4ed7-a202-251447e12045"
   },
   "outputs": [
    {
     "data": {
      "text/plain": [
       "Text(0, 0.5, 'log(max_breaks)')"
      ]
     },
     "execution_count": 17,
     "metadata": {},
     "output_type": "execute_result"
    },
    {
     "data": {
      "image/png": "[encoded data removed]",
      "text/plain": [
       "<Figure size 432x288 with 1 Axes>"
      ]
     },
     "metadata": {
      "needs_background": "light"
     },
     "output_type": "display_data"
    }
   ],
   "source": [
    "plt.scatter((data.user_age), (data.max_values), s = 0.1)\n",
    "plt.xlabel('log(user_age)')\n",
    "plt.ylabel('log(max_breaks)')"
   ]
  },
  {
   "cell_type": "code",
   "execution_count": 18,
   "metadata": {
    "colab": {
     "base_uri": "https://localhost:8080/",
     "height": 423
    },
    "id": "KKR8klfOL9vZ",
    "outputId": "a84f0ac9-caac-479e-9751-9a77f0c366c6"
   },
   "outputs": [
    {
     "data": {
      "text/html": [
       "<div>\n",
       "<style scoped>\n",
       "    .dataframe tbody tr th:only-of-type {\n",
       "        vertical-align: middle;\n",
       "    }\n",
       "\n",
       "    .dataframe tbody tr th {\n",
       "        vertical-align: top;\n",
       "    }\n",
       "\n",
       "    .dataframe thead th {\n",
       "        text-align: right;\n",
       "    }\n",
       "</style>\n",
       "<table border=\"1\" class=\"dataframe\">\n",
       "  <thead>\n",
       "    <tr style=\"text-align: right;\">\n",
       "      <th></th>\n",
       "      <th>user_hash</th>\n",
       "      <th>user_age</th>\n",
       "      <th>edu_action_dts_diff</th>\n",
       "      <th>max_values</th>\n",
       "      <th>relative_max</th>\n",
       "      <th>number_of_breaks</th>\n",
       "    </tr>\n",
       "  </thead>\n",
       "  <tbody>\n",
       "    <tr>\n",
       "      <th>0</th>\n",
       "      <td>1337673019693833145</td>\n",
       "      <td>44948896</td>\n",
       "      <td>[75, 50, 48, 31, 111, 55, 2241750, 45, 39, 69,...</td>\n",
       "      <td>2241750</td>\n",
       "      <td>4.987331e-02</td>\n",
       "      <td>469</td>\n",
       "    </tr>\n",
       "    <tr>\n",
       "      <th>1</th>\n",
       "      <td>12399224692537823609</td>\n",
       "      <td>18075929</td>\n",
       "      <td>[38364, 107, 727, 159, 309, 180, 16, 229, 168,...</td>\n",
       "      <td>79614</td>\n",
       "      <td>4.404421e-03</td>\n",
       "      <td>47</td>\n",
       "    </tr>\n",
       "    <tr>\n",
       "      <th>2</th>\n",
       "      <td>5048662895936071839</td>\n",
       "      <td>71747113</td>\n",
       "      <td>[43, 21]</td>\n",
       "      <td>43</td>\n",
       "      <td>5.993273e-07</td>\n",
       "      <td>2</td>\n",
       "    </tr>\n",
       "    <tr>\n",
       "      <th>3</th>\n",
       "      <td>5559178310857390024</td>\n",
       "      <td>41381466</td>\n",
       "      <td>[35, 172, 118]</td>\n",
       "      <td>172</td>\n",
       "      <td>4.156450e-06</td>\n",
       "      <td>3</td>\n",
       "    </tr>\n",
       "    <tr>\n",
       "      <th>4</th>\n",
       "      <td>13199674104569162400</td>\n",
       "      <td>45961826</td>\n",
       "      <td>[214, 223, 63]</td>\n",
       "      <td>223</td>\n",
       "      <td>4.851852e-06</td>\n",
       "      <td>3</td>\n",
       "    </tr>\n",
       "    <tr>\n",
       "      <th>...</th>\n",
       "      <td>...</td>\n",
       "      <td>...</td>\n",
       "      <td>...</td>\n",
       "      <td>...</td>\n",
       "      <td>...</td>\n",
       "      <td>...</td>\n",
       "    </tr>\n",
       "    <tr>\n",
       "      <th>244848</th>\n",
       "      <td>11428639955678375885</td>\n",
       "      <td>44833916</td>\n",
       "      <td>[55, 396, 135, 41, 58, 61, 50, 33, 19, 35, 138...</td>\n",
       "      <td>31906</td>\n",
       "      <td>7.116487e-04</td>\n",
       "      <td>111</td>\n",
       "    </tr>\n",
       "    <tr>\n",
       "      <th>244849</th>\n",
       "      <td>18012949507887797844</td>\n",
       "      <td>43032189</td>\n",
       "      <td>[42, 34, 57]</td>\n",
       "      <td>57</td>\n",
       "      <td>1.324590e-06</td>\n",
       "      <td>3</td>\n",
       "    </tr>\n",
       "    <tr>\n",
       "      <th>244850</th>\n",
       "      <td>6824619557279793970</td>\n",
       "      <td>38895754</td>\n",
       "      <td>[116, 110, 46, 56]</td>\n",
       "      <td>116</td>\n",
       "      <td>2.982331e-06</td>\n",
       "      <td>4</td>\n",
       "    </tr>\n",
       "    <tr>\n",
       "      <th>244851</th>\n",
       "      <td>11808724736265319250</td>\n",
       "      <td>7516504</td>\n",
       "      <td>[243, 154, 180, 53, 144, 64, 59, 158, 1715, 53...</td>\n",
       "      <td>338624</td>\n",
       "      <td>4.505073e-02</td>\n",
       "      <td>215</td>\n",
       "    </tr>\n",
       "    <tr>\n",
       "      <th>244852</th>\n",
       "      <td>15405230984075057120</td>\n",
       "      <td>44762803</td>\n",
       "      <td>[66, 44, 308, 55, 52, 73, 35, 274, 31, 55, 92,...</td>\n",
       "      <td>4045454</td>\n",
       "      <td>9.037535e-02</td>\n",
       "      <td>55</td>\n",
       "    </tr>\n",
       "  </tbody>\n",
       "</table>\n",
       "<p>244853 rows × 6 columns</p>\n",
       "</div>"
      ],
      "text/plain": [
       "                   user_hash  user_age  \\\n",
       "0        1337673019693833145  44948896   \n",
       "1       12399224692537823609  18075929   \n",
       "2        5048662895936071839  71747113   \n",
       "3        5559178310857390024  41381466   \n",
       "4       13199674104569162400  45961826   \n",
       "...                      ...       ...   \n",
       "244848  11428639955678375885  44833916   \n",
       "244849  18012949507887797844  43032189   \n",
       "244850   6824619557279793970  38895754   \n",
       "244851  11808724736265319250   7516504   \n",
       "244852  15405230984075057120  44762803   \n",
       "\n",
       "                                      edu_action_dts_diff  max_values  \\\n",
       "0       [75, 50, 48, 31, 111, 55, 2241750, 45, 39, 69,...     2241750   \n",
       "1       [38364, 107, 727, 159, 309, 180, 16, 229, 168,...       79614   \n",
       "2                                                [43, 21]          43   \n",
       "3                                          [35, 172, 118]         172   \n",
       "4                                          [214, 223, 63]         223   \n",
       "...                                                   ...         ...   \n",
       "244848  [55, 396, 135, 41, 58, 61, 50, 33, 19, 35, 138...       31906   \n",
       "244849                                       [42, 34, 57]          57   \n",
       "244850                                 [116, 110, 46, 56]         116   \n",
       "244851  [243, 154, 180, 53, 144, 64, 59, 158, 1715, 53...      338624   \n",
       "244852  [66, 44, 308, 55, 52, 73, 35, 274, 31, 55, 92,...     4045454   \n",
       "\n",
       "        relative_max  number_of_breaks  \n",
       "0       4.987331e-02               469  \n",
       "1       4.404421e-03                47  \n",
       "2       5.993273e-07                 2  \n",
       "3       4.156450e-06                 3  \n",
       "4       4.851852e-06                 3  \n",
       "...              ...               ...  \n",
       "244848  7.116487e-04               111  \n",
       "244849  1.324590e-06                 3  \n",
       "244850  2.982331e-06                 4  \n",
       "244851  4.505073e-02               215  \n",
       "244852  9.037535e-02                55  \n",
       "\n",
       "[244853 rows x 6 columns]"
      ]
     },
     "execution_count": 18,
     "metadata": {},
     "output_type": "execute_result"
    }
   ],
   "source": [
    "data"
   ]
  },
  {
   "cell_type": "code",
   "execution_count": 19,
   "metadata": {
    "colab": {
     "base_uri": "https://localhost:8080/",
     "height": 423
    },
    "id": "JbdcWpW_KMXF",
    "outputId": "c472ebee-4b55-42dd-a0be-7d4827dbb2bb"
   },
   "outputs": [
    {
     "data": {
      "text/html": [
       "<div>\n",
       "<style scoped>\n",
       "    .dataframe tbody tr th:only-of-type {\n",
       "        vertical-align: middle;\n",
       "    }\n",
       "\n",
       "    .dataframe tbody tr th {\n",
       "        vertical-align: top;\n",
       "    }\n",
       "\n",
       "    .dataframe thead th {\n",
       "        text-align: right;\n",
       "    }\n",
       "</style>\n",
       "<table border=\"1\" class=\"dataframe\">\n",
       "  <thead>\n",
       "    <tr style=\"text-align: right;\">\n",
       "      <th></th>\n",
       "      <th>user_hash</th>\n",
       "      <th>user_age</th>\n",
       "      <th>edu_action_dts_diff</th>\n",
       "      <th>max_values</th>\n",
       "      <th>relative_max</th>\n",
       "      <th>number_of_breaks</th>\n",
       "    </tr>\n",
       "  </thead>\n",
       "  <tbody>\n",
       "    <tr>\n",
       "      <th>0</th>\n",
       "      <td>1337673019693833145</td>\n",
       "      <td>44948896</td>\n",
       "      <td>[75, 50, 48, 31, 111, 55, 2241750, 45, 39, 69,...</td>\n",
       "      <td>2241750</td>\n",
       "      <td>4.987331e-02</td>\n",
       "      <td>469</td>\n",
       "    </tr>\n",
       "    <tr>\n",
       "      <th>1</th>\n",
       "      <td>12399224692537823609</td>\n",
       "      <td>18075929</td>\n",
       "      <td>[38364, 107, 727, 159, 309, 180, 16, 229, 168,...</td>\n",
       "      <td>79614</td>\n",
       "      <td>4.404421e-03</td>\n",
       "      <td>47</td>\n",
       "    </tr>\n",
       "    <tr>\n",
       "      <th>2</th>\n",
       "      <td>5048662895936071839</td>\n",
       "      <td>71747113</td>\n",
       "      <td>[43, 21]</td>\n",
       "      <td>43</td>\n",
       "      <td>5.993273e-07</td>\n",
       "      <td>2</td>\n",
       "    </tr>\n",
       "    <tr>\n",
       "      <th>3</th>\n",
       "      <td>5559178310857390024</td>\n",
       "      <td>41381466</td>\n",
       "      <td>[35, 172, 118]</td>\n",
       "      <td>172</td>\n",
       "      <td>4.156450e-06</td>\n",
       "      <td>3</td>\n",
       "    </tr>\n",
       "    <tr>\n",
       "      <th>4</th>\n",
       "      <td>13199674104569162400</td>\n",
       "      <td>45961826</td>\n",
       "      <td>[214, 223, 63]</td>\n",
       "      <td>223</td>\n",
       "      <td>4.851852e-06</td>\n",
       "      <td>3</td>\n",
       "    </tr>\n",
       "    <tr>\n",
       "      <th>...</th>\n",
       "      <td>...</td>\n",
       "      <td>...</td>\n",
       "      <td>...</td>\n",
       "      <td>...</td>\n",
       "      <td>...</td>\n",
       "      <td>...</td>\n",
       "    </tr>\n",
       "    <tr>\n",
       "      <th>244848</th>\n",
       "      <td>11428639955678375885</td>\n",
       "      <td>44833916</td>\n",
       "      <td>[55, 396, 135, 41, 58, 61, 50, 33, 19, 35, 138...</td>\n",
       "      <td>31906</td>\n",
       "      <td>7.116487e-04</td>\n",
       "      <td>111</td>\n",
       "    </tr>\n",
       "    <tr>\n",
       "      <th>244849</th>\n",
       "      <td>18012949507887797844</td>\n",
       "      <td>43032189</td>\n",
       "      <td>[42, 34, 57]</td>\n",
       "      <td>57</td>\n",
       "      <td>1.324590e-06</td>\n",
       "      <td>3</td>\n",
       "    </tr>\n",
       "    <tr>\n",
       "      <th>244850</th>\n",
       "      <td>6824619557279793970</td>\n",
       "      <td>38895754</td>\n",
       "      <td>[116, 110, 46, 56]</td>\n",
       "      <td>116</td>\n",
       "      <td>2.982331e-06</td>\n",
       "      <td>4</td>\n",
       "    </tr>\n",
       "    <tr>\n",
       "      <th>244851</th>\n",
       "      <td>11808724736265319250</td>\n",
       "      <td>7516504</td>\n",
       "      <td>[243, 154, 180, 53, 144, 64, 59, 158, 1715, 53...</td>\n",
       "      <td>338624</td>\n",
       "      <td>4.505073e-02</td>\n",
       "      <td>215</td>\n",
       "    </tr>\n",
       "    <tr>\n",
       "      <th>244852</th>\n",
       "      <td>15405230984075057120</td>\n",
       "      <td>44762803</td>\n",
       "      <td>[66, 44, 308, 55, 52, 73, 35, 274, 31, 55, 92,...</td>\n",
       "      <td>4045454</td>\n",
       "      <td>9.037535e-02</td>\n",
       "      <td>55</td>\n",
       "    </tr>\n",
       "  </tbody>\n",
       "</table>\n",
       "<p>232294 rows × 6 columns</p>\n",
       "</div>"
      ],
      "text/plain": [
       "                   user_hash  user_age  \\\n",
       "0        1337673019693833145  44948896   \n",
       "1       12399224692537823609  18075929   \n",
       "2        5048662895936071839  71747113   \n",
       "3        5559178310857390024  41381466   \n",
       "4       13199674104569162400  45961826   \n",
       "...                      ...       ...   \n",
       "244848  11428639955678375885  44833916   \n",
       "244849  18012949507887797844  43032189   \n",
       "244850   6824619557279793970  38895754   \n",
       "244851  11808724736265319250   7516504   \n",
       "244852  15405230984075057120  44762803   \n",
       "\n",
       "                                      edu_action_dts_diff  max_values  \\\n",
       "0       [75, 50, 48, 31, 111, 55, 2241750, 45, 39, 69,...     2241750   \n",
       "1       [38364, 107, 727, 159, 309, 180, 16, 229, 168,...       79614   \n",
       "2                                                [43, 21]          43   \n",
       "3                                          [35, 172, 118]         172   \n",
       "4                                          [214, 223, 63]         223   \n",
       "...                                                   ...         ...   \n",
       "244848  [55, 396, 135, 41, 58, 61, 50, 33, 19, 35, 138...       31906   \n",
       "244849                                       [42, 34, 57]          57   \n",
       "244850                                 [116, 110, 46, 56]         116   \n",
       "244851  [243, 154, 180, 53, 144, 64, 59, 158, 1715, 53...      338624   \n",
       "244852  [66, 44, 308, 55, 52, 73, 35, 274, 31, 55, 92,...     4045454   \n",
       "\n",
       "        relative_max  number_of_breaks  \n",
       "0       4.987331e-02               469  \n",
       "1       4.404421e-03                47  \n",
       "2       5.993273e-07                 2  \n",
       "3       4.156450e-06                 3  \n",
       "4       4.851852e-06                 3  \n",
       "...              ...               ...  \n",
       "244848  7.116487e-04               111  \n",
       "244849  1.324590e-06                 3  \n",
       "244850  2.982331e-06                 4  \n",
       "244851  4.505073e-02               215  \n",
       "244852  9.037535e-02                55  \n",
       "\n",
       "[232294 rows x 6 columns]"
      ]
     },
     "execution_count": 19,
     "metadata": {},
     "output_type": "execute_result"
    }
   ],
   "source": [
    "data1 = data.query('max_values < 1e7')\n",
    "data2 = data[data['max_values'] < 1e7]\n",
    "data1 \n",
    "# ':))'"
   ]
  },
  {
   "cell_type": "code",
   "execution_count": 20,
   "metadata": {
    "colab": {
     "base_uri": "https://localhost:8080/",
     "height": 278
    },
    "id": "01cYTL3AO0Th",
    "outputId": "82252ba9-1c99-4823-bd31-c372eeeefa45"
   },
   "outputs": [
    {
     "data": {
      "image/png": "[encoded data removed]",
      "text/plain": [
       "<Figure size 432x288 with 1 Axes>"
      ]
     },
     "metadata": {
      "needs_background": "light"
     },
     "output_type": "display_data"
    }
   ],
   "source": [
    "plt.hist(data1.max_values, bins=100)\n",
    "plt.yscale('log')\n",
    "plt.show()"
   ]
  },
  {
   "cell_type": "code",
   "execution_count": 21,
   "metadata": {
    "colab": {
     "base_uri": "https://localhost:8080/",
     "height": 300
    },
    "id": "pDsDVKCgPSVU",
    "outputId": "a02e08ea-0b63-4187-a71e-ecf6006af4ae"
   },
   "outputs": [
    {
     "name": "stderr",
     "output_type": "stream",
     "text": [
      "C:\\Users\\Katerina\\anaconda3\\lib\\site-packages\\pandas\\core\\arraylike.py:358: RuntimeWarning: divide by zero encountered in log\n",
      "  result = getattr(ufunc, method)(*inputs, **kwargs)\n"
     ]
    },
    {
     "data": {
      "image/png": "[encoded data removed]",
      "text/plain": [
       "<Figure size 432x288 with 1 Axes>"
      ]
     },
     "metadata": {
      "needs_background": "light"
     },
     "output_type": "display_data"
    }
   ],
   "source": [
    "def log_T(x, T=60*60*24):\n",
    "    return np.log(x) / np.log(T)\n",
    "\n",
    "plt.scatter(log_T(data1.user_age), log_T(data1.max_values), s = 0.1)\n",
    "plt.show()"
   ]
  },
  {
   "cell_type": "code",
   "execution_count": 22,
   "metadata": {
    "colab": {
     "base_uri": "https://localhost:8080/",
     "height": 423
    },
    "id": "16qfHg0qZB0o",
    "outputId": "484a75d1-bd9c-4eb8-96e6-a897248bf2c5"
   },
   "outputs": [
    {
     "data": {
      "text/html": [
       "<div>\n",
       "<style scoped>\n",
       "    .dataframe tbody tr th:only-of-type {\n",
       "        vertical-align: middle;\n",
       "    }\n",
       "\n",
       "    .dataframe tbody tr th {\n",
       "        vertical-align: top;\n",
       "    }\n",
       "\n",
       "    .dataframe thead th {\n",
       "        text-align: right;\n",
       "    }\n",
       "</style>\n",
       "<table border=\"1\" class=\"dataframe\">\n",
       "  <thead>\n",
       "    <tr style=\"text-align: right;\">\n",
       "      <th></th>\n",
       "      <th>user_hash</th>\n",
       "      <th>user_age</th>\n",
       "      <th>edu_action_dts_diff</th>\n",
       "      <th>max_values</th>\n",
       "      <th>relative_max</th>\n",
       "      <th>number_of_breaks</th>\n",
       "      <th>sum_of_breaks</th>\n",
       "    </tr>\n",
       "  </thead>\n",
       "  <tbody>\n",
       "    <tr>\n",
       "      <th>0</th>\n",
       "      <td>1337673019693833145</td>\n",
       "      <td>44948896</td>\n",
       "      <td>[75, 50, 48, 31, 111, 55, 2241750, 45, 39, 69,...</td>\n",
       "      <td>2241750</td>\n",
       "      <td>4.987331e-02</td>\n",
       "      <td>469</td>\n",
       "      <td>4992936</td>\n",
       "    </tr>\n",
       "    <tr>\n",
       "      <th>1</th>\n",
       "      <td>12399224692537823609</td>\n",
       "      <td>18075929</td>\n",
       "      <td>[38364, 107, 727, 159, 309, 180, 16, 229, 168,...</td>\n",
       "      <td>79614</td>\n",
       "      <td>4.404421e-03</td>\n",
       "      <td>47</td>\n",
       "      <td>219259</td>\n",
       "    </tr>\n",
       "    <tr>\n",
       "      <th>2</th>\n",
       "      <td>5048662895936071839</td>\n",
       "      <td>71747113</td>\n",
       "      <td>[43, 21]</td>\n",
       "      <td>43</td>\n",
       "      <td>5.993273e-07</td>\n",
       "      <td>2</td>\n",
       "      <td>64</td>\n",
       "    </tr>\n",
       "    <tr>\n",
       "      <th>3</th>\n",
       "      <td>5559178310857390024</td>\n",
       "      <td>41381466</td>\n",
       "      <td>[35, 172, 118]</td>\n",
       "      <td>172</td>\n",
       "      <td>4.156450e-06</td>\n",
       "      <td>3</td>\n",
       "      <td>325</td>\n",
       "    </tr>\n",
       "    <tr>\n",
       "      <th>4</th>\n",
       "      <td>13199674104569162400</td>\n",
       "      <td>45961826</td>\n",
       "      <td>[214, 223, 63]</td>\n",
       "      <td>223</td>\n",
       "      <td>4.851852e-06</td>\n",
       "      <td>3</td>\n",
       "      <td>500</td>\n",
       "    </tr>\n",
       "    <tr>\n",
       "      <th>...</th>\n",
       "      <td>...</td>\n",
       "      <td>...</td>\n",
       "      <td>...</td>\n",
       "      <td>...</td>\n",
       "      <td>...</td>\n",
       "      <td>...</td>\n",
       "      <td>...</td>\n",
       "    </tr>\n",
       "    <tr>\n",
       "      <th>244848</th>\n",
       "      <td>11428639955678375885</td>\n",
       "      <td>44833916</td>\n",
       "      <td>[55, 396, 135, 41, 58, 61, 50, 33, 19, 35, 138...</td>\n",
       "      <td>31906</td>\n",
       "      <td>7.116487e-04</td>\n",
       "      <td>111</td>\n",
       "      <td>84347</td>\n",
       "    </tr>\n",
       "    <tr>\n",
       "      <th>244849</th>\n",
       "      <td>18012949507887797844</td>\n",
       "      <td>43032189</td>\n",
       "      <td>[42, 34, 57]</td>\n",
       "      <td>57</td>\n",
       "      <td>1.324590e-06</td>\n",
       "      <td>3</td>\n",
       "      <td>133</td>\n",
       "    </tr>\n",
       "    <tr>\n",
       "      <th>244850</th>\n",
       "      <td>6824619557279793970</td>\n",
       "      <td>38895754</td>\n",
       "      <td>[116, 110, 46, 56]</td>\n",
       "      <td>116</td>\n",
       "      <td>2.982331e-06</td>\n",
       "      <td>4</td>\n",
       "      <td>328</td>\n",
       "    </tr>\n",
       "    <tr>\n",
       "      <th>244851</th>\n",
       "      <td>11808724736265319250</td>\n",
       "      <td>7516504</td>\n",
       "      <td>[243, 154, 180, 53, 144, 64, 59, 158, 1715, 53...</td>\n",
       "      <td>338624</td>\n",
       "      <td>4.505073e-02</td>\n",
       "      <td>215</td>\n",
       "      <td>1741635</td>\n",
       "    </tr>\n",
       "    <tr>\n",
       "      <th>244852</th>\n",
       "      <td>15405230984075057120</td>\n",
       "      <td>44762803</td>\n",
       "      <td>[66, 44, 308, 55, 52, 73, 35, 274, 31, 55, 92,...</td>\n",
       "      <td>4045454</td>\n",
       "      <td>9.037535e-02</td>\n",
       "      <td>55</td>\n",
       "      <td>4052519</td>\n",
       "    </tr>\n",
       "  </tbody>\n",
       "</table>\n",
       "<p>244853 rows × 7 columns</p>\n",
       "</div>"
      ],
      "text/plain": [
       "                   user_hash  user_age  \\\n",
       "0        1337673019693833145  44948896   \n",
       "1       12399224692537823609  18075929   \n",
       "2        5048662895936071839  71747113   \n",
       "3        5559178310857390024  41381466   \n",
       "4       13199674104569162400  45961826   \n",
       "...                      ...       ...   \n",
       "244848  11428639955678375885  44833916   \n",
       "244849  18012949507887797844  43032189   \n",
       "244850   6824619557279793970  38895754   \n",
       "244851  11808724736265319250   7516504   \n",
       "244852  15405230984075057120  44762803   \n",
       "\n",
       "                                      edu_action_dts_diff  max_values  \\\n",
       "0       [75, 50, 48, 31, 111, 55, 2241750, 45, 39, 69,...     2241750   \n",
       "1       [38364, 107, 727, 159, 309, 180, 16, 229, 168,...       79614   \n",
       "2                                                [43, 21]          43   \n",
       "3                                          [35, 172, 118]         172   \n",
       "4                                          [214, 223, 63]         223   \n",
       "...                                                   ...         ...   \n",
       "244848  [55, 396, 135, 41, 58, 61, 50, 33, 19, 35, 138...       31906   \n",
       "244849                                       [42, 34, 57]          57   \n",
       "244850                                 [116, 110, 46, 56]         116   \n",
       "244851  [243, 154, 180, 53, 144, 64, 59, 158, 1715, 53...      338624   \n",
       "244852  [66, 44, 308, 55, 52, 73, 35, 274, 31, 55, 92,...     4045454   \n",
       "\n",
       "        relative_max  number_of_breaks  sum_of_breaks  \n",
       "0       4.987331e-02               469        4992936  \n",
       "1       4.404421e-03                47         219259  \n",
       "2       5.993273e-07                 2             64  \n",
       "3       4.156450e-06                 3            325  \n",
       "4       4.851852e-06                 3            500  \n",
       "...              ...               ...            ...  \n",
       "244848  7.116487e-04               111          84347  \n",
       "244849  1.324590e-06                 3            133  \n",
       "244850  2.982331e-06                 4            328  \n",
       "244851  4.505073e-02               215        1741635  \n",
       "244852  9.037535e-02                55        4052519  \n",
       "\n",
       "[244853 rows x 7 columns]"
      ]
     },
     "execution_count": 22,
     "metadata": {},
     "output_type": "execute_result"
    }
   ],
   "source": [
    "data['sum_of_breaks'] = data.edu_action_dts_diff.apply(np.sum)\n",
    "data"
   ]
  },
  {
   "cell_type": "code",
   "execution_count": 23,
   "metadata": {
    "colab": {
     "base_uri": "https://localhost:8080/",
     "height": 265
    },
    "id": "dysgc7lGZu2E",
    "outputId": "50f538d8-d3ce-41d8-92d8-e672c341da4a"
   },
   "outputs": [
    {
     "data": {
      "image/png": "[encoded data removed]",
      "text/plain": [
       "<Figure size 432x288 with 1 Axes>"
      ]
     },
     "metadata": {
      "needs_background": "light"
     },
     "output_type": "display_data"
    }
   ],
   "source": [
    "plt.hist(data.sum_of_breaks / data.user_age, bins = 100)\n",
    "plt.yscale('log')\n",
    "plt.show()"
   ]
  },
  {
   "cell_type": "code",
   "execution_count": 24,
   "metadata": {
    "colab": {
     "base_uri": "https://localhost:8080/",
     "height": 290
    },
    "id": "ljNvGr01a55L",
    "outputId": "f5e699bb-419b-42eb-afe3-dd47b5df612a"
   },
   "outputs": [
    {
     "data": {
      "image/png": "[encoded data removed]",
      "text/plain": [
       "<Figure size 432x288 with 1 Axes>"
      ]
     },
     "metadata": {
      "needs_background": "light"
     },
     "output_type": "display_data"
    }
   ],
   "source": [
    "plt.scatter(data.sum_of_breaks / data.user_age, data.user_age, s=0.1)\n",
    "plt.xlabel('Отношение общего времени перерывов к возрасту')\n",
    "plt.ylabel('Возраст')\n",
    "plt.show()"
   ]
  },
  {
   "cell_type": "code",
   "execution_count": 25,
   "metadata": {
    "colab": {
     "base_uri": "https://localhost:8080/",
     "height": 423
    },
    "id": "TrB_8StXa5PZ",
    "outputId": "0a382f59-dcec-47b2-a110-b5538093e43c"
   },
   "outputs": [
    {
     "data": {
      "text/html": [
       "<div>\n",
       "<style scoped>\n",
       "    .dataframe tbody tr th:only-of-type {\n",
       "        vertical-align: middle;\n",
       "    }\n",
       "\n",
       "    .dataframe tbody tr th {\n",
       "        vertical-align: top;\n",
       "    }\n",
       "\n",
       "    .dataframe thead th {\n",
       "        text-align: right;\n",
       "    }\n",
       "</style>\n",
       "<table border=\"1\" class=\"dataframe\">\n",
       "  <thead>\n",
       "    <tr style=\"text-align: right;\">\n",
       "      <th></th>\n",
       "      <th>user_hash</th>\n",
       "      <th>user_age</th>\n",
       "      <th>edu_action_dts_diff</th>\n",
       "      <th>max_values</th>\n",
       "      <th>relative_max</th>\n",
       "      <th>number_of_breaks</th>\n",
       "      <th>sum_of_breaks</th>\n",
       "      <th>last_break</th>\n",
       "    </tr>\n",
       "  </thead>\n",
       "  <tbody>\n",
       "    <tr>\n",
       "      <th>0</th>\n",
       "      <td>1337673019693833145</td>\n",
       "      <td>44948896</td>\n",
       "      <td>[75, 50, 48, 31, 111, 55, 2241750, 45, 39, 69,...</td>\n",
       "      <td>2241750</td>\n",
       "      <td>4.987331e-02</td>\n",
       "      <td>469</td>\n",
       "      <td>4992936</td>\n",
       "      <td>39955960</td>\n",
       "    </tr>\n",
       "    <tr>\n",
       "      <th>1</th>\n",
       "      <td>12399224692537823609</td>\n",
       "      <td>18075929</td>\n",
       "      <td>[38364, 107, 727, 159, 309, 180, 16, 229, 168,...</td>\n",
       "      <td>79614</td>\n",
       "      <td>4.404421e-03</td>\n",
       "      <td>47</td>\n",
       "      <td>219259</td>\n",
       "      <td>17856670</td>\n",
       "    </tr>\n",
       "    <tr>\n",
       "      <th>2</th>\n",
       "      <td>5048662895936071839</td>\n",
       "      <td>71747113</td>\n",
       "      <td>[43, 21]</td>\n",
       "      <td>43</td>\n",
       "      <td>5.993273e-07</td>\n",
       "      <td>2</td>\n",
       "      <td>64</td>\n",
       "      <td>71747049</td>\n",
       "    </tr>\n",
       "    <tr>\n",
       "      <th>3</th>\n",
       "      <td>5559178310857390024</td>\n",
       "      <td>41381466</td>\n",
       "      <td>[35, 172, 118]</td>\n",
       "      <td>172</td>\n",
       "      <td>4.156450e-06</td>\n",
       "      <td>3</td>\n",
       "      <td>325</td>\n",
       "      <td>41381141</td>\n",
       "    </tr>\n",
       "    <tr>\n",
       "      <th>4</th>\n",
       "      <td>13199674104569162400</td>\n",
       "      <td>45961826</td>\n",
       "      <td>[214, 223, 63]</td>\n",
       "      <td>223</td>\n",
       "      <td>4.851852e-06</td>\n",
       "      <td>3</td>\n",
       "      <td>500</td>\n",
       "      <td>45961326</td>\n",
       "    </tr>\n",
       "    <tr>\n",
       "      <th>...</th>\n",
       "      <td>...</td>\n",
       "      <td>...</td>\n",
       "      <td>...</td>\n",
       "      <td>...</td>\n",
       "      <td>...</td>\n",
       "      <td>...</td>\n",
       "      <td>...</td>\n",
       "      <td>...</td>\n",
       "    </tr>\n",
       "    <tr>\n",
       "      <th>244848</th>\n",
       "      <td>11428639955678375885</td>\n",
       "      <td>44833916</td>\n",
       "      <td>[55, 396, 135, 41, 58, 61, 50, 33, 19, 35, 138...</td>\n",
       "      <td>31906</td>\n",
       "      <td>7.116487e-04</td>\n",
       "      <td>111</td>\n",
       "      <td>84347</td>\n",
       "      <td>44749569</td>\n",
       "    </tr>\n",
       "    <tr>\n",
       "      <th>244849</th>\n",
       "      <td>18012949507887797844</td>\n",
       "      <td>43032189</td>\n",
       "      <td>[42, 34, 57]</td>\n",
       "      <td>57</td>\n",
       "      <td>1.324590e-06</td>\n",
       "      <td>3</td>\n",
       "      <td>133</td>\n",
       "      <td>43032056</td>\n",
       "    </tr>\n",
       "    <tr>\n",
       "      <th>244850</th>\n",
       "      <td>6824619557279793970</td>\n",
       "      <td>38895754</td>\n",
       "      <td>[116, 110, 46, 56]</td>\n",
       "      <td>116</td>\n",
       "      <td>2.982331e-06</td>\n",
       "      <td>4</td>\n",
       "      <td>328</td>\n",
       "      <td>38895426</td>\n",
       "    </tr>\n",
       "    <tr>\n",
       "      <th>244851</th>\n",
       "      <td>11808724736265319250</td>\n",
       "      <td>7516504</td>\n",
       "      <td>[243, 154, 180, 53, 144, 64, 59, 158, 1715, 53...</td>\n",
       "      <td>338624</td>\n",
       "      <td>4.505073e-02</td>\n",
       "      <td>215</td>\n",
       "      <td>1741635</td>\n",
       "      <td>5774869</td>\n",
       "    </tr>\n",
       "    <tr>\n",
       "      <th>244852</th>\n",
       "      <td>15405230984075057120</td>\n",
       "      <td>44762803</td>\n",
       "      <td>[66, 44, 308, 55, 52, 73, 35, 274, 31, 55, 92,...</td>\n",
       "      <td>4045454</td>\n",
       "      <td>9.037535e-02</td>\n",
       "      <td>55</td>\n",
       "      <td>4052519</td>\n",
       "      <td>40710284</td>\n",
       "    </tr>\n",
       "  </tbody>\n",
       "</table>\n",
       "<p>244853 rows × 8 columns</p>\n",
       "</div>"
      ],
      "text/plain": [
       "                   user_hash  user_age  \\\n",
       "0        1337673019693833145  44948896   \n",
       "1       12399224692537823609  18075929   \n",
       "2        5048662895936071839  71747113   \n",
       "3        5559178310857390024  41381466   \n",
       "4       13199674104569162400  45961826   \n",
       "...                      ...       ...   \n",
       "244848  11428639955678375885  44833916   \n",
       "244849  18012949507887797844  43032189   \n",
       "244850   6824619557279793970  38895754   \n",
       "244851  11808724736265319250   7516504   \n",
       "244852  15405230984075057120  44762803   \n",
       "\n",
       "                                      edu_action_dts_diff  max_values  \\\n",
       "0       [75, 50, 48, 31, 111, 55, 2241750, 45, 39, 69,...     2241750   \n",
       "1       [38364, 107, 727, 159, 309, 180, 16, 229, 168,...       79614   \n",
       "2                                                [43, 21]          43   \n",
       "3                                          [35, 172, 118]         172   \n",
       "4                                          [214, 223, 63]         223   \n",
       "...                                                   ...         ...   \n",
       "244848  [55, 396, 135, 41, 58, 61, 50, 33, 19, 35, 138...       31906   \n",
       "244849                                       [42, 34, 57]          57   \n",
       "244850                                 [116, 110, 46, 56]         116   \n",
       "244851  [243, 154, 180, 53, 144, 64, 59, 158, 1715, 53...      338624   \n",
       "244852  [66, 44, 308, 55, 52, 73, 35, 274, 31, 55, 92,...     4045454   \n",
       "\n",
       "        relative_max  number_of_breaks  sum_of_breaks  last_break  \n",
       "0       4.987331e-02               469        4992936    39955960  \n",
       "1       4.404421e-03                47         219259    17856670  \n",
       "2       5.993273e-07                 2             64    71747049  \n",
       "3       4.156450e-06                 3            325    41381141  \n",
       "4       4.851852e-06                 3            500    45961326  \n",
       "...              ...               ...            ...         ...  \n",
       "244848  7.116487e-04               111          84347    44749569  \n",
       "244849  1.324590e-06                 3            133    43032056  \n",
       "244850  2.982331e-06                 4            328    38895426  \n",
       "244851  4.505073e-02               215        1741635     5774869  \n",
       "244852  9.037535e-02                55        4052519    40710284  \n",
       "\n",
       "[244853 rows x 8 columns]"
      ]
     },
     "execution_count": 25,
     "metadata": {},
     "output_type": "execute_result"
    }
   ],
   "source": [
    "data['last_break'] = data.user_age - data.sum_of_breaks\n",
    "data"
   ]
  },
  {
   "cell_type": "code",
   "execution_count": 26,
   "metadata": {
    "colab": {
     "base_uri": "https://localhost:8080/",
     "height": 296
    },
    "id": "qPEg7kUnf-W_",
    "outputId": "e1f4c892-f3fd-4843-8656-82352111e71a"
   },
   "outputs": [
    {
     "data": {
      "image/png": "[encoded data removed]",
      "text/plain": [
       "<Figure size 432x288 with 1 Axes>"
      ]
     },
     "metadata": {
      "needs_background": "light"
     },
     "output_type": "display_data"
    }
   ],
   "source": [
    "# ~ последний перерыв, распределение\n",
    "plt.hist(data.last_break, bins = 100)\n",
    "plt.xlabel('last_break')\n",
    "plt.ylabel('number of users')\n",
    "plt.title('Текущие последние перерывы')\n",
    "plt.show()"
   ]
  },
  {
   "cell_type": "code",
   "execution_count": 27,
   "metadata": {
    "colab": {
     "base_uri": "https://localhost:8080/",
     "height": 269
    },
    "id": "_0n4PnU0gmOS",
    "outputId": "755996a3-1e92-4ddf-dcfd-75c101ecb057"
   },
   "outputs": [
    {
     "data": {
      "image/png": "[encoded data removed]",
      "text/plain": [
       "<Figure size 432x288 with 1 Axes>"
      ]
     },
     "metadata": {
      "needs_background": "light"
     },
     "output_type": "display_data"
    }
   ],
   "source": [
    "# user_with_last_break = np.argmin(data[data.number_of_breaks > 5000].number_of_breaks)\n",
    "user_with_last_break = np.argmax(data.number_of_breaks)\n",
    "# plt.hist(data[data.number_of_breaks > 2000].iloc[user_with_last_break].edu_action_dts_diff, bins=1000)\n",
    "plt.hist(np.log(0.0001+data.iloc[user_with_last_break].edu_action_dts_diff), bins=1000)\n",
    "plt.xscale('log')\n",
    "plt.yscale('log')\n",
    "plt.show()"
   ]
  },
  {
   "cell_type": "code",
   "execution_count": 28,
   "metadata": {
    "colab": {
     "base_uri": "https://localhost:8080/",
     "height": 265
    },
    "id": "zl3PUAGiVENN",
    "outputId": "a93fd460-ba1b-432e-e1e1-a76c3e6bbf0a"
   },
   "outputs": [
    {
     "data": {
      "image/png": "[encoded data removed]",
      "text/plain": [
       "<Figure size 432x288 with 1 Axes>"
      ]
     },
     "metadata": {
      "needs_background": "light"
     },
     "output_type": "display_data"
    }
   ],
   "source": [
    "plt.plot([1,2,5,10], [1,3,5,7])\n",
    "plt.scatter([1,2,5,10], [1,3,5,7])\n",
    "plt.show()"
   ]
  },
  {
   "cell_type": "code",
   "execution_count": 29,
   "metadata": {
    "colab": {
     "base_uri": "https://localhost:8080/",
     "height": 289
    },
    "id": "vNbXipbZUkeZ",
    "outputId": "3df5ead8-855d-430e-fe29-acb43efb92b9",
    "scrolled": true
   },
   "outputs": [
    {
     "data": {
      "image/png": "[encoded data removed]",
      "text/plain": [
       "<Figure size 432x288 with 1 Axes>"
      ]
     },
     "metadata": {
      "needs_background": "light"
     },
     "output_type": "display_data"
    }
   ],
   "source": [
    "breaks_of_mighty_user = data.iloc[user_with_last_break].edu_action_dts_diff\n",
    "plt.plot(np.cumsum(breaks_of_mighty_user), breaks_of_mighty_user)\n",
    "plt.show()"
   ]
  },
  {
   "cell_type": "code",
   "execution_count": 30,
   "metadata": {},
   "outputs": [],
   "source": [
    "SECONDS_IN_DAY = 3600 * 24\n",
    "SECONDS_IN_WEEK = SECONDS_IN_DAY * 7"
   ]
  },
  {
   "cell_type": "code",
   "execution_count": 31,
   "metadata": {
    "colab": {
     "base_uri": "https://localhost:8080/",
     "height": 445
    },
    "id": "Fydkt8ENXEaI",
    "outputId": "80d3f89c-892e-499e-f82d-656b86cce866"
   },
   "outputs": [
    {
     "data": {
      "image/png": "[encoded data removed]",
      "text/plain": [
       "<Figure size 432x288 with 1 Axes>"
      ]
     },
     "metadata": {
      "needs_background": "light"
     },
     "output_type": "display_data"
    },
    {
     "data": {
      "text/plain": [
       "array([      40,      229,      507,     5135,      220,      181,\n",
       "            465,       19,       59,      462,       21,       19,\n",
       "             20,      122,      295,       63,      173,       51,\n",
       "             98,       90,       77,      264,    61506,      683,\n",
       "             41,       87,      153,      422,      885,       23,\n",
       "             74,      251,      129,      817,      100,     1311,\n",
       "             79,     3808,      104,      346,      464,      175,\n",
       "            306,      237,      142,      676,    11984,       75,\n",
       "            145,      867,    54402,     1663,     2374,       22,\n",
       "            504,   454606,    82681,      261,      238,      334,\n",
       "            329,   604756,   947299,       76,      438,      671,\n",
       "           2866,       37,       94,       94,   409487,      208,\n",
       "            954,   860045,  3214278,  1214822,     2783,       76,\n",
       "             86,      122,      333,     8257,   839816, 31533914,\n",
       "            230,    93472], dtype=int64)"
      ]
     },
     "execution_count": 31,
     "metadata": {},
     "output_type": "execute_result"
    }
   ],
   "source": [
    "id1 = 5702\n",
    "breaks_of_mighty_user = np.append(data.edu_action_dts_diff.iloc[id1], data.last_break.iloc[id1])\n",
    "plt.scatter(np.cumsum(breaks_of_mighty_user), breaks_of_mighty_user, s = 2)\n",
    "plt.step(np.cumsum(breaks_of_mighty_user), breaks_of_mighty_user, where = 'pre')\n",
    "plt.show()\n",
    "breaks_of_mighty_user"
   ]
  },
  {
   "cell_type": "code",
   "execution_count": 32,
   "metadata": {},
   "outputs": [],
   "source": [
    "breaks_of_mighty_user\n",
    "\n",
    "def discretize_user_breaks(breaks):\n",
    "    arr = []\n",
    "    for user_break in breaks:\n",
    "        arr += [user_break] * user_break\n",
    "    return np.array(arr)"
   ]
  },
  {
   "cell_type": "code",
   "execution_count": null,
   "metadata": {},
   "outputs": [
    {
     "data": {
      "image/png": "[encoded data removed]",
      "text/plain": [
       "<Figure size 432x288 with 1 Axes>"
      ]
     },
     "metadata": {
      "needs_background": "light"
     },
     "output_type": "display_data"
    },
    {
     "data": {
      "image/png": "[encoded data removed]",
      "text/plain": [
       "<Figure size 432x288 with 1 Axes>"
      ]
     },
     "metadata": {
      "needs_background": "light"
     },
     "output_type": "display_data"
    },
    {
     "data": {
      "image/png": "[encoded data removed]",
      "text/plain": [
       "<Figure size 432x288 with 1 Axes>"
      ]
     },
     "metadata": {
      "needs_background": "light"
     },
     "output_type": "display_data"
    },
    {
     "data": {
      "image/png": "[encoded data removed]",
      "text/plain": [
       "<Figure size 432x288 with 1 Axes>"
      ]
     },
     "metadata": {
      "needs_background": "light"
     },
     "output_type": "display_data"
    }
   ],
   "source": [
    "from scipy.ndimage import uniform_filter1d\n",
    "\n",
    "\n",
    "id1 = 5702\n",
    "for id1 in np.arange(100):\n",
    "    breaks_of_mighty_user = np.append(data.edu_action_dts_diff.iloc[id1], data.last_break.iloc[id1])\n",
    "    if len(breaks_of_mighty_user) > 500:\n",
    "        breaks_discr_arr = discretize_user_breaks(breaks_of_mighty_user)\n",
    "        breaks_discr_arr_filtered = uniform_filter1d(breaks_discr_arr, size=SECONDS_IN_WEEK)\n",
    "\n",
    "        plt.figure()\n",
    "        plt.plot(breaks_discr_arr_filtered)\n",
    "        plt.title(f'user {id1}, {len(breaks_of_mighty_user)} breaks')\n",
    "        plt.xlabel('time, seconds')\n",
    "        plt.ylabel('break duration, seconds')\n",
    "        plt.show()\n",
    "        "
   ]
  },
  {
   "cell_type": "code",
   "execution_count": null,
   "metadata": {},
   "outputs": [],
   "source": [
    "for id1 in np.arange(100):\n",
    "    breaks_of_mighty_user = np.append(data.edu_action_dts_diff.iloc[id1], data.last_break.iloc[id1])\n",
    "    if len(breaks_of_mighty_user) < 5:\n",
    "        breaks_discr_arr = discretize_user_breaks(breaks_of_mighty_user)\n",
    "        breaks_discr_arr_filtered = uniform_filter1d(breaks_discr_arr, size=SECONDS_IN_WEEK)\n",
    "\n",
    "        plt.figure()\n",
    "        plt.plot(breaks_discr_arr_filtered)\n",
    "        plt.title(f'user {id1}, {len(breaks_of_mighty_user)} breaks')\n",
    "        plt.show()"
   ]
  },
  {
   "cell_type": "code",
   "execution_count": null,
   "metadata": {
    "colab": {
     "base_uri": "https://localhost:8080/"
    },
    "id": "Eo2VpIB9uph7",
    "outputId": "cf0c2ecc-01e1-4097-b7fc-acb7f7ab5633"
   },
   "outputs": [],
   "source": [
    "data.iloc[user_with_last_break]"
   ]
  },
  {
   "cell_type": "code",
   "execution_count": null,
   "metadata": {
    "colab": {
     "base_uri": "https://localhost:8080/",
     "height": 265
    },
    "id": "jlRzRro4oZls",
    "outputId": "04fe0265-d303-481c-b376-50b086b7a997"
   },
   "outputs": [],
   "source": [
    "breaks = np.clip(data.iloc[user_with_last_break].edu_action_dts_diff, 1, 1000)\n",
    "plt.hist(breaks, bins=1000)\n",
    "plt.show()\n",
    "# Мы хотели понять, как определить характерный перерыв для каждого пользователя\n",
    "# Мы посмотрели на распределение перерывов самого активного пользователя и какого-то полуслучайного\n",
    "# Медиану и среднее в качестве характерного перерыва брать не стоит, слишком много маленьких перерывов \n",
    "# Можно брать максимальный перерыв и сравнивать его с последним. \n",
    "# (Если такие перерывы раньше встречались, то мб они и характерны для этого пользователя)"
   ]
  },
  {
   "cell_type": "code",
   "execution_count": null,
   "metadata": {
    "colab": {
     "base_uri": "https://localhost:8080/",
     "height": 300
    },
    "id": "gAk4nzqGkECA",
    "outputId": "04fbd4e0-94cd-4cf0-e7f9-226254c73acd"
   },
   "outputs": [],
   "source": [
    "SECONDS_IN_DAY = 3600 * 24\n",
    "SECONDS_IN_WEEK = SECONDS_IN_DAY * 7\n",
    "SECONDS_IN_MONTH = SECONDS_IN_DAY * 30\n",
    "SECONDS_IN_YEAR = SECONDS_IN_DAY * 365\n",
    "\n",
    "\n",
    "plt.hist(data.last_break / (data.max_values + 0.01), bins=np.logspace(-3, 10, 200))\n",
    "plt.xscale('log')\n",
    "plt.xlabel('data.last_break / data.max_values')\n",
    "plt.ylabel('number of users')\n",
    "\n",
    "# plt.legend(loc='best')\n",
    "plt.title('Отношение последнего перерыва к максимальному')\n",
    "plt.show()"
   ]
  },
  {
   "cell_type": "code",
   "execution_count": null,
   "metadata": {
    "colab": {
     "base_uri": "https://localhost:8080/",
     "height": 809
    },
    "id": "H02HbvOwvkYF",
    "outputId": "778a2cd1-cd62-4efb-ddb8-e6f8760f736d"
   },
   "outputs": [],
   "source": [
    "def sigmoid(x):\n",
    "     return 1 / (1 + np.exp(-x))\n",
    "\n",
    "def shifted_sigmoid(x, k=2):\n",
    "    # YOUR CODE HERE\n",
    "    return sigmoid(np.log10(x) / k)\n",
    "\n",
    "raw_probability = data.last_break / (data.max_values + 0.01)\n",
    "\n",
    "for k in [1.3, 1.5, 1.7]:\n",
    "    # plt.hist(shifted_sigmoid(raw_probability, k=k), bins=100)\n",
    "    plt.hist(np.log10(raw_probability), bins=200)\n",
    "    # plt.xscale('log')\n",
    "    plt.title(f'Raw probability')\n",
    "    plt.show()"
   ]
  },
  {
   "cell_type": "code",
   "execution_count": null,
   "metadata": {
    "colab": {
     "base_uri": "https://localhost:8080/",
     "height": 300
    },
    "id": "ZcS_BsguWIWg",
    "outputId": "e7d3a740-3874-47f6-d9d3-128c82d11b2e"
   },
   "outputs": [],
   "source": [
    "sec_in_week = 7*24*3600\n",
    "sec_in_month = 30*24*3600\n",
    "\n",
    "plt.scatter(np.log10(raw_probability), np.log10(data.sum_of_breaks), s=0.1)\n",
    "plt.scatter(np.linspace(-4, 8, 20), np.log10([sec_in_week]*20), color='red')\n",
    "plt.title('')\n",
    "plt.show()"
   ]
  },
  {
   "cell_type": "code",
   "execution_count": null,
   "metadata": {
    "colab": {
     "base_uri": "https://localhost:8080/"
    },
    "id": "jjj_of8kcjBq",
    "outputId": "a23db407-018a-4c54-ee30-3f4c6570ba2d"
   },
   "outputs": [],
   "source": [
    "[1,2,3] + [4,5,6], [1, 21]*6"
   ]
  },
  {
   "cell_type": "code",
   "execution_count": null,
   "metadata": {
    "colab": {
     "base_uri": "https://localhost:8080/",
     "height": 634
    },
    "id": "xPkaQjwPmFLv",
    "outputId": "18000d7c-a3b9-4c84-afbc-a76acbaaf956"
   },
   "outputs": [],
   "source": [
    "big_data = pd.read_csv('/content/drive/My Drive/Diploma/AN-885.csv')\n",
    "big_data"
   ]
  },
  {
   "cell_type": "code",
   "execution_count": null,
   "metadata": {
    "colab": {
     "base_uri": "https://localhost:8080/"
    },
    "id": "nbpMzC83Jm-E",
    "outputId": "335b5225-c52a-4b8b-9c40-1d31fff00fd4"
   },
   "outputs": [],
   "source": [
    "set1 = set(data.user_hash)\n",
    "set2 = set(big_data.user_hash)\n",
    "(len(set1.intersection(set2)))/(len(data.user_hash))\n",
    "len(set1)"
   ]
  },
  {
   "cell_type": "code",
   "execution_count": null,
   "metadata": {
    "id": "6_42woxyed5w"
   },
   "outputs": [],
   "source": [
    "1"
   ]
  },
  {
   "cell_type": "code",
   "execution_count": null,
   "metadata": {
    "id": "HPYrtBgGTZ7d"
   },
   "outputs": [],
   "source": []
  },
  {
   "cell_type": "code",
   "execution_count": null,
   "metadata": {
    "id": "TX3cpg4CMdXh"
   },
   "outputs": [],
   "source": []
  }
 ],
 "metadata": {
  "colab": {
   "collapsed_sections": [],
   "name": "ex1.ipynb",
   "provenance": []
  },
  "kernelspec": {
   "display_name": "Python 3",
   "language": "python",
   "name": "python3"
  },
  "language_info": {
   "codemirror_mode": {
    "name": "ipython",
    "version": 3
   },
   "file_extension": ".py",
   "mimetype": "text/x-python",
   "name": "python",
   "nbconvert_exporter": "python",
   "pygments_lexer": "ipython3",
   "version": "3.8.8"
  }
 },
 "nbformat": 4,
 "nbformat_minor": 1
}
