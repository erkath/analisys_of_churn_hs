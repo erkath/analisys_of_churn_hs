{
 "cells": [
  {
   "cell_type": "code",
   "execution_count": 1,
   "id": "caad8a1d",
   "metadata": {},
   "outputs": [],
   "source": [
    "import pandas as pd\n",
    "import numpy as np\n",
    "import matplotlib.pyplot as plt"
   ]
  },
  {
   "cell_type": "code",
   "execution_count": null,
   "id": "399e8c94",
   "metadata": {},
   "outputs": [],
   "source": [
    "\"\"\"\n",
    "В этом файле строятся графы действий пользователей в разных кластерах.\n",
    "\n",
    "\"\"\""
   ]
  },
  {
   "cell_type": "code",
   "execution_count": 2,
   "id": "bff9b826",
   "metadata": {},
   "outputs": [],
   "source": [
    "import retentioneering"
   ]
  },
  {
   "cell_type": "code",
   "execution_count": 3,
   "id": "86d397a9",
   "metadata": {},
   "outputs": [
    {
     "data": {
      "text/html": [
       "<div>\n",
       "<style scoped>\n",
       "    .dataframe tbody tr th:only-of-type {\n",
       "        vertical-align: middle;\n",
       "    }\n",
       "\n",
       "    .dataframe tbody tr th {\n",
       "        vertical-align: top;\n",
       "    }\n",
       "\n",
       "    .dataframe thead th {\n",
       "        text-align: right;\n",
       "    }\n",
       "</style>\n",
       "<table border=\"1\" class=\"dataframe\">\n",
       "  <thead>\n",
       "    <tr style=\"text-align: right;\">\n",
       "      <th></th>\n",
       "      <th>dt</th>\n",
       "      <th>user_hash</th>\n",
       "      <th>action</th>\n",
       "    </tr>\n",
       "  </thead>\n",
       "  <tbody>\n",
       "    <tr>\n",
       "      <th>0</th>\n",
       "      <td>2021-08-04 05:17:21</td>\n",
       "      <td>4766523093487740533</td>\n",
       "      <td>abandoned_step</td>\n",
       "    </tr>\n",
       "    <tr>\n",
       "      <th>1</th>\n",
       "      <td>2021-08-04 09:57:32</td>\n",
       "      <td>8844031830567918474</td>\n",
       "      <td>abandoned_step</td>\n",
       "    </tr>\n",
       "    <tr>\n",
       "      <th>2</th>\n",
       "      <td>2021-08-04 13:43:11</td>\n",
       "      <td>9597316936381557906</td>\n",
       "      <td>abandoned_step</td>\n",
       "    </tr>\n",
       "    <tr>\n",
       "      <th>3</th>\n",
       "      <td>2021-08-04 14:44:54</td>\n",
       "      <td>6441677487337749613</td>\n",
       "      <td>abandoned_step</td>\n",
       "    </tr>\n",
       "    <tr>\n",
       "      <th>4</th>\n",
       "      <td>2021-08-04 15:12:24</td>\n",
       "      <td>1538309979517857225</td>\n",
       "      <td>abandoned_step</td>\n",
       "    </tr>\n",
       "    <tr>\n",
       "      <th>...</th>\n",
       "      <td>...</td>\n",
       "      <td>...</td>\n",
       "      <td>...</td>\n",
       "    </tr>\n",
       "    <tr>\n",
       "      <th>25504895</th>\n",
       "      <td>2021-12-30 17:45:35</td>\n",
       "      <td>9037027244877101543</td>\n",
       "      <td>viewed_step</td>\n",
       "    </tr>\n",
       "    <tr>\n",
       "      <th>25504896</th>\n",
       "      <td>2021-12-30 17:45:38</td>\n",
       "      <td>17267855088208330080</td>\n",
       "      <td>viewed_step</td>\n",
       "    </tr>\n",
       "    <tr>\n",
       "      <th>25504897</th>\n",
       "      <td>2021-12-30 17:45:40</td>\n",
       "      <td>12253945569312787381</td>\n",
       "      <td>viewed_step</td>\n",
       "    </tr>\n",
       "    <tr>\n",
       "      <th>25504898</th>\n",
       "      <td>2021-12-30 17:45:41</td>\n",
       "      <td>12693713996304919558</td>\n",
       "      <td>viewed_step</td>\n",
       "    </tr>\n",
       "    <tr>\n",
       "      <th>25504899</th>\n",
       "      <td>2021-12-30 17:45:43</td>\n",
       "      <td>9601793886001955138</td>\n",
       "      <td>viewed_step</td>\n",
       "    </tr>\n",
       "  </tbody>\n",
       "</table>\n",
       "<p>25504900 rows × 3 columns</p>\n",
       "</div>"
      ],
      "text/plain": [
       "                           dt             user_hash          action\n",
       "0         2021-08-04 05:17:21   4766523093487740533  abandoned_step\n",
       "1         2021-08-04 09:57:32   8844031830567918474  abandoned_step\n",
       "2         2021-08-04 13:43:11   9597316936381557906  abandoned_step\n",
       "3         2021-08-04 14:44:54   6441677487337749613  abandoned_step\n",
       "4         2021-08-04 15:12:24   1538309979517857225  abandoned_step\n",
       "...                       ...                   ...             ...\n",
       "25504895  2021-12-30 17:45:35   9037027244877101543     viewed_step\n",
       "25504896  2021-12-30 17:45:38  17267855088208330080     viewed_step\n",
       "25504897  2021-12-30 17:45:40  12253945569312787381     viewed_step\n",
       "25504898  2021-12-30 17:45:41  12693713996304919558     viewed_step\n",
       "25504899  2021-12-30 17:45:43   9601793886001955138     viewed_step\n",
       "\n",
       "[25504900 rows x 3 columns]"
      ]
     },
     "execution_count": 3,
     "metadata": {},
     "output_type": "execute_result"
    }
   ],
   "source": [
    "data_action = pd.read_csv(r'C:\\Users\\Katerina\\Питонячье\\Diploma\\AN-996.csv')\n",
    "data_action"
   ]
  },
  {
   "cell_type": "code",
   "execution_count": 4,
   "id": "61490bf2",
   "metadata": {},
   "outputs": [
    {
     "data": {
      "text/plain": [
       "count        25504900\n",
       "unique             30\n",
       "top       viewed_step\n",
       "freq          7528052\n",
       "Name: action, dtype: object"
      ]
     },
     "execution_count": 4,
     "metadata": {},
     "output_type": "execute_result"
    }
   ],
   "source": [
    "data_action.action.describe()"
   ]
  },
  {
   "cell_type": "code",
   "execution_count": 5,
   "id": "124eb063",
   "metadata": {},
   "outputs": [
    {
     "data": {
      "text/plain": [
       "viewed_step                            7528052\n",
       "completed_step                         5586677\n",
       "completed_submission                   4976386\n",
       "failed_submission                      4310122\n",
       "completed_topic                         660495\n",
       "created_like                            512168\n",
       "skipped_topic                           369052\n",
       "ide_oauth_authorized                    344173\n",
       "created_comment                         194558\n",
       "created_subscription                    147591\n",
       "completed_stage                         114381\n",
       "skipped_predicted_topic                 107313\n",
       "registered_user                          99761\n",
       "selected_track                           95446\n",
       "selected_project                         89628\n",
       "completed_predicted_topic                60004\n",
       "skipped_step                             46836\n",
       "abandoned_step                           43589\n",
       "changed_project                          42553\n",
       "completed_diagnostics                    40693\n",
       "changed_track                            37961\n",
       "verified_predicted_topic                 37732\n",
       "downloaded_step_test                     18578\n",
       "completed_project                        16281\n",
       "failed_predicted_topic_verification       9632\n",
       "abandoned_stage                           4182\n",
       "cribbed_step                              3807\n",
       "cribbed_stage                             3807\n",
       "downloaded_paid_step_test                 2727\n",
       "completed_track                            715\n",
       "Name: action, dtype: int64"
      ]
     },
     "execution_count": 5,
     "metadata": {},
     "output_type": "execute_result"
    }
   ],
   "source": [
    "data_action.action.value_counts()"
   ]
  },
  {
   "cell_type": "code",
   "execution_count": 6,
   "id": "b1038580",
   "metadata": {},
   "outputs": [],
   "source": [
    "retentioneering.config.update({\n",
    "    'event_col':'action',\n",
    "    'user_col': 'user_hash',\n",
    "    'event_time_col':'dt',\n",
    "})"
   ]
  },
  {
   "cell_type": "code",
   "execution_count": 7,
   "id": "d5020fc8",
   "metadata": {},
   "outputs": [],
   "source": [
    "data = data_action\n"
   ]
  },
  {
   "cell_type": "code",
   "execution_count": 8,
   "id": "16d3b507",
   "metadata": {},
   "outputs": [
    {
     "data": {
      "text/html": [
       "\n",
       "        <iframe\n",
       "            width=\"1000\"\n",
       "            height=\"700\"\n",
       "            src=\"experiments/graph_2022-05-05 18_46_42_848851.html\"\n",
       "            frameborder=\"0\"\n",
       "            allowfullscreen\n",
       "            \n",
       "        ></iframe>\n",
       "        "
      ],
      "text/plain": [
       "<IPython.lib.display.IFrame at 0x27f90624a60>"
      ]
     },
     "metadata": {},
     "output_type": "display_data"
    },
    {
     "data": {
      "text/plain": [
       "'experiments/graph_2022-05-05 18_46_42_848851.html'"
      ]
     },
     "execution_count": 8,
     "metadata": {},
     "output_type": "execute_result"
    }
   ],
   "source": [
    "data.rete.plot_graph(norm_type=None,\n",
    "                     weight_col=None,\n",
    "                     thresh=2500)"
   ]
  },
  {
   "cell_type": "code",
   "execution_count": 10,
   "id": "53a60957",
   "metadata": {},
   "outputs": [
    {
     "data": {
      "text/html": [
       "\n",
       "        <iframe\n",
       "            width=\"1000\"\n",
       "            height=\"700\"\n",
       "            src=\"experiments/graph_2022-05-02 00_17_39_220428.html\"\n",
       "            frameborder=\"0\"\n",
       "            allowfullscreen\n",
       "            \n",
       "        ></iframe>\n",
       "        "
      ],
      "text/plain": [
       "<IPython.lib.display.IFrame at 0x164cc0e6430>"
      ]
     },
     "metadata": {},
     "output_type": "display_data"
    },
    {
     "data": {
      "text/plain": [
       "'experiments/graph_2022-05-02 00_17_39_220428.html'"
      ]
     },
     "execution_count": 10,
     "metadata": {},
     "output_type": "execute_result"
    }
   ],
   "source": [
    "data.rete.plot_graph(norm_type=None,\n",
    "                     weight_col=None,\n",
    "                     thresh=400)\n",
    "# tresh - нижний порог, ниже которого не отображается"
   ]
  },
  {
   "cell_type": "code",
   "execution_count": 11,
   "id": "a53c23be",
   "metadata": {},
   "outputs": [
    {
     "data": {
      "text/html": [
       "\n",
       "        <iframe\n",
       "            width=\"1000\"\n",
       "            height=\"700\"\n",
       "            src=\"experiments/graph_2022-05-02 00_18_50_587733.html\"\n",
       "            frameborder=\"0\"\n",
       "            allowfullscreen\n",
       "            \n",
       "        ></iframe>\n",
       "        "
      ],
      "text/plain": [
       "<IPython.lib.display.IFrame at 0x164cc234b50>"
      ]
     },
     "metadata": {},
     "output_type": "display_data"
    },
    {
     "data": {
      "text/plain": [
       "'experiments/graph_2022-05-02 00_18_50_587733.html'"
      ]
     },
     "execution_count": 11,
     "metadata": {},
     "output_type": "execute_result"
    }
   ],
   "source": [
    "data.rete.plot_graph(norm_type=None,\n",
    "                     weight_col=None,\n",
    "                     thresh=15000,\n",
    "                     targets = {'changed_project':'green',\n",
    "                                'skipped_predicted_topic':'red'})\n",
    "# tresh - нижний порог, ниже которого не отображается"
   ]
  },
  {
   "cell_type": "code",
   "execution_count": 9,
   "id": "b773560a",
   "metadata": {},
   "outputs": [
    {
     "data": {
      "text/html": [
       "<div>\n",
       "<style scoped>\n",
       "    .dataframe tbody tr th:only-of-type {\n",
       "        vertical-align: middle;\n",
       "    }\n",
       "\n",
       "    .dataframe tbody tr th {\n",
       "        vertical-align: top;\n",
       "    }\n",
       "\n",
       "    .dataframe thead th {\n",
       "        text-align: right;\n",
       "    }\n",
       "</style>\n",
       "<table border=\"1\" class=\"dataframe\">\n",
       "  <thead>\n",
       "    <tr style=\"text-align: right;\">\n",
       "      <th></th>\n",
       "      <th>dt</th>\n",
       "      <th>user_hash</th>\n",
       "      <th>action</th>\n",
       "    </tr>\n",
       "  </thead>\n",
       "  <tbody>\n",
       "    <tr>\n",
       "      <th>0</th>\n",
       "      <td>2021-08-04 05:17:21</td>\n",
       "      <td>4766523093487740533</td>\n",
       "      <td>abandoned_step</td>\n",
       "    </tr>\n",
       "    <tr>\n",
       "      <th>1</th>\n",
       "      <td>2021-08-04 04:59:53</td>\n",
       "      <td>4766523093487740533</td>\n",
       "      <td>completed_step</td>\n",
       "    </tr>\n",
       "    <tr>\n",
       "      <th>2</th>\n",
       "      <td>2021-08-04 05:06:16</td>\n",
       "      <td>4766523093487740533</td>\n",
       "      <td>completed_step</td>\n",
       "    </tr>\n",
       "    <tr>\n",
       "      <th>3</th>\n",
       "      <td>2021-08-04 05:08:12</td>\n",
       "      <td>4766523093487740533</td>\n",
       "      <td>created_like</td>\n",
       "    </tr>\n",
       "    <tr>\n",
       "      <th>4</th>\n",
       "      <td>2021-08-04 05:09:14</td>\n",
       "      <td>4766523093487740533</td>\n",
       "      <td>created_like</td>\n",
       "    </tr>\n",
       "    <tr>\n",
       "      <th>5</th>\n",
       "      <td>2021-08-04 05:03:21</td>\n",
       "      <td>4766523093487740533</td>\n",
       "      <td>created_subscription</td>\n",
       "    </tr>\n",
       "    <tr>\n",
       "      <th>6</th>\n",
       "      <td>2021-08-04 05:13:50</td>\n",
       "      <td>4766523093487740533</td>\n",
       "      <td>failed_submission</td>\n",
       "    </tr>\n",
       "    <tr>\n",
       "      <th>7</th>\n",
       "      <td>2021-08-04 05:15:50</td>\n",
       "      <td>4766523093487740533</td>\n",
       "      <td>failed_submission</td>\n",
       "    </tr>\n",
       "    <tr>\n",
       "      <th>8</th>\n",
       "      <td>2021-08-04 05:16:12</td>\n",
       "      <td>4766523093487740533</td>\n",
       "      <td>failed_submission</td>\n",
       "    </tr>\n",
       "    <tr>\n",
       "      <th>9</th>\n",
       "      <td>2021-08-04 05:16:50</td>\n",
       "      <td>4766523093487740533</td>\n",
       "      <td>failed_submission</td>\n",
       "    </tr>\n",
       "    <tr>\n",
       "      <th>10</th>\n",
       "      <td>2021-08-04 05:17:12</td>\n",
       "      <td>4766523093487740533</td>\n",
       "      <td>failed_submission</td>\n",
       "    </tr>\n",
       "    <tr>\n",
       "      <th>11</th>\n",
       "      <td>2021-08-04 05:19:35</td>\n",
       "      <td>4766523093487740533</td>\n",
       "      <td>failed_submission</td>\n",
       "    </tr>\n",
       "    <tr>\n",
       "      <th>12</th>\n",
       "      <td>2021-08-04 05:03:21</td>\n",
       "      <td>4766523093487740533</td>\n",
       "      <td>registered_user</td>\n",
       "    </tr>\n",
       "    <tr>\n",
       "      <th>13</th>\n",
       "      <td>2021-08-04 05:04:45</td>\n",
       "      <td>4766523093487740533</td>\n",
       "      <td>selected_project</td>\n",
       "    </tr>\n",
       "    <tr>\n",
       "      <th>14</th>\n",
       "      <td>2021-08-04 05:04:45</td>\n",
       "      <td>4766523093487740533</td>\n",
       "      <td>selected_track</td>\n",
       "    </tr>\n",
       "    <tr>\n",
       "      <th>15</th>\n",
       "      <td>2021-08-04 04:59:28</td>\n",
       "      <td>4766523093487740533</td>\n",
       "      <td>viewed_step</td>\n",
       "    </tr>\n",
       "    <tr>\n",
       "      <th>16</th>\n",
       "      <td>2021-08-04 04:59:57</td>\n",
       "      <td>4766523093487740533</td>\n",
       "      <td>viewed_step</td>\n",
       "    </tr>\n",
       "    <tr>\n",
       "      <th>17</th>\n",
       "      <td>2021-08-04 05:06:10</td>\n",
       "      <td>4766523093487740533</td>\n",
       "      <td>viewed_step</td>\n",
       "    </tr>\n",
       "    <tr>\n",
       "      <th>18</th>\n",
       "      <td>2021-08-04 05:06:19</td>\n",
       "      <td>4766523093487740533</td>\n",
       "      <td>viewed_step</td>\n",
       "    </tr>\n",
       "    <tr>\n",
       "      <th>19</th>\n",
       "      <td>2021-08-04 05:08:14</td>\n",
       "      <td>4766523093487740533</td>\n",
       "      <td>viewed_step</td>\n",
       "    </tr>\n",
       "    <tr>\n",
       "      <th>20</th>\n",
       "      <td>2021-08-04 05:09:38</td>\n",
       "      <td>4766523093487740533</td>\n",
       "      <td>viewed_step</td>\n",
       "    </tr>\n",
       "    <tr>\n",
       "      <th>21</th>\n",
       "      <td>2021-08-04 05:18:45</td>\n",
       "      <td>4766523093487740533</td>\n",
       "      <td>viewed_step</td>\n",
       "    </tr>\n",
       "    <tr>\n",
       "      <th>22</th>\n",
       "      <td>2021-08-04 05:20:20</td>\n",
       "      <td>4766523093487740533</td>\n",
       "      <td>viewed_step</td>\n",
       "    </tr>\n",
       "    <tr>\n",
       "      <th>23</th>\n",
       "      <td>2021-08-04 05:20:27</td>\n",
       "      <td>4766523093487740533</td>\n",
       "      <td>viewed_step</td>\n",
       "    </tr>\n",
       "  </tbody>\n",
       "</table>\n",
       "</div>"
      ],
      "text/plain": [
       "                     dt            user_hash                action\n",
       "0   2021-08-04 05:17:21  4766523093487740533        abandoned_step\n",
       "1   2021-08-04 04:59:53  4766523093487740533        completed_step\n",
       "2   2021-08-04 05:06:16  4766523093487740533        completed_step\n",
       "3   2021-08-04 05:08:12  4766523093487740533          created_like\n",
       "4   2021-08-04 05:09:14  4766523093487740533          created_like\n",
       "5   2021-08-04 05:03:21  4766523093487740533  created_subscription\n",
       "6   2021-08-04 05:13:50  4766523093487740533     failed_submission\n",
       "7   2021-08-04 05:15:50  4766523093487740533     failed_submission\n",
       "8   2021-08-04 05:16:12  4766523093487740533     failed_submission\n",
       "9   2021-08-04 05:16:50  4766523093487740533     failed_submission\n",
       "10  2021-08-04 05:17:12  4766523093487740533     failed_submission\n",
       "11  2021-08-04 05:19:35  4766523093487740533     failed_submission\n",
       "12  2021-08-04 05:03:21  4766523093487740533       registered_user\n",
       "13  2021-08-04 05:04:45  4766523093487740533      selected_project\n",
       "14  2021-08-04 05:04:45  4766523093487740533        selected_track\n",
       "15  2021-08-04 04:59:28  4766523093487740533           viewed_step\n",
       "16  2021-08-04 04:59:57  4766523093487740533           viewed_step\n",
       "17  2021-08-04 05:06:10  4766523093487740533           viewed_step\n",
       "18  2021-08-04 05:06:19  4766523093487740533           viewed_step\n",
       "19  2021-08-04 05:08:14  4766523093487740533           viewed_step\n",
       "20  2021-08-04 05:09:38  4766523093487740533           viewed_step\n",
       "21  2021-08-04 05:18:45  4766523093487740533           viewed_step\n",
       "22  2021-08-04 05:20:20  4766523093487740533           viewed_step\n",
       "23  2021-08-04 05:20:27  4766523093487740533           viewed_step"
      ]
     },
     "execution_count": 9,
     "metadata": {},
     "output_type": "execute_result"
    }
   ],
   "source": [
    "single_user = data[data['user_hash']==4766523093487740533].reset_index(drop=True)\n",
    "single_user\n",
    "#single_user.rete.step_matrix(max_steps=16);"
   ]
  },
  {
   "cell_type": "code",
   "execution_count": 10,
   "id": "4482dfe4",
   "metadata": {},
   "outputs": [],
   "source": [
    "# single_user.rete.step_matrix(max_steps=25);"
   ]
  },
  {
   "cell_type": "code",
   "execution_count": 11,
   "id": "d206f8a3",
   "metadata": {},
   "outputs": [],
   "source": [
    "# data.rete.step_matrix(max_steps=25);"
   ]
  },
  {
   "cell_type": "code",
   "execution_count": 12,
   "id": "fb917eeb",
   "metadata": {},
   "outputs": [],
   "source": [
    "data.rete.get_clusters(method='kmeans',\n",
    "                       n_clusters=20,\n",
    "                       feature_type='tfidf',\n",
    "                       ngram_range=(1,2));"
   ]
  },
  {
   "cell_type": "code",
   "execution_count": 14,
   "id": "99cad92b",
   "metadata": {},
   "outputs": [
    {
     "name": "stderr",
     "output_type": "stream",
     "text": [
      "C:\\Users\\Katerina\\anaconda3\\envs\\diplomenv\\lib\\site-packages\\sklearn\\manifold\\_t_sne.py:780: FutureWarning: The default initialization in TSNE will change from 'random' to 'pca' in 1.2.\n",
      "  warnings.warn(\n",
      "C:\\Users\\Katerina\\anaconda3\\envs\\diplomenv\\lib\\site-packages\\sklearn\\manifold\\_t_sne.py:790: FutureWarning: The default learning rate in TSNE will change from 200.0 to 'auto' in 1.2.\n",
      "  warnings.warn(\n"
     ]
    },
    {
     "ename": "KeyboardInterrupt",
     "evalue": "",
     "output_type": "error",
     "traceback": [
      "\u001b[1;31m---------------------------------------------------------------------------\u001b[0m",
      "\u001b[1;31mKeyboardInterrupt\u001b[0m                         Traceback (most recent call last)",
      "\u001b[1;32m~\\AppData\\Local\\Temp/ipykernel_3152/1040464674.py\u001b[0m in \u001b[0;36m<module>\u001b[1;34m\u001b[0m\n\u001b[1;32m----> 1\u001b[1;33m df_projection = data.rete.project(plot_type ='clusters',\n\u001b[0m\u001b[0;32m      2\u001b[0m                                   \u001b[0mmethod\u001b[0m\u001b[1;33m=\u001b[0m\u001b[1;34m'tsne'\u001b[0m\u001b[1;33m,\u001b[0m\u001b[1;33m\u001b[0m\u001b[1;33m\u001b[0m\u001b[0m\n\u001b[0;32m      3\u001b[0m                                   perplexity=128);\n",
      "\u001b[1;32m~\\AppData\\Roaming\\Python\\Python38\\site-packages\\retentioneering\\core\\core_functions\\project.py\u001b[0m in \u001b[0;36mproject\u001b[1;34m(self, method, targets, ngram_range, feature_type, plot_type, **kwargs)\u001b[0m\n\u001b[0;32m     81\u001b[0m \u001b[1;33m\u001b[0m\u001b[0m\n\u001b[0;32m     82\u001b[0m     \u001b[1;32mif\u001b[0m \u001b[0mmethod\u001b[0m \u001b[1;33m==\u001b[0m \u001b[1;34m'tsne'\u001b[0m\u001b[1;33m:\u001b[0m\u001b[1;33m\u001b[0m\u001b[1;33m\u001b[0m\u001b[0m\n\u001b[1;32m---> 83\u001b[1;33m         \u001b[0mself\u001b[0m\u001b[1;33m.\u001b[0m\u001b[0m_projection\u001b[0m \u001b[1;33m=\u001b[0m \u001b[0m_learn_tsne\u001b[0m\u001b[1;33m(\u001b[0m\u001b[0mfeatures\u001b[0m\u001b[1;33m,\u001b[0m \u001b[1;33m**\u001b[0m\u001b[0mkwargs\u001b[0m\u001b[1;33m)\u001b[0m\u001b[1;33m\u001b[0m\u001b[1;33m\u001b[0m\u001b[0m\n\u001b[0m\u001b[0;32m     84\u001b[0m     \u001b[1;32melif\u001b[0m \u001b[0mmethod\u001b[0m \u001b[1;33m==\u001b[0m \u001b[1;34m'umap'\u001b[0m\u001b[1;33m:\u001b[0m\u001b[1;33m\u001b[0m\u001b[1;33m\u001b[0m\u001b[0m\n\u001b[0;32m     85\u001b[0m         \u001b[0mself\u001b[0m\u001b[1;33m.\u001b[0m\u001b[0m_projection\u001b[0m \u001b[1;33m=\u001b[0m \u001b[0m_learn_umap\u001b[0m\u001b[1;33m(\u001b[0m\u001b[0mfeatures\u001b[0m\u001b[1;33m,\u001b[0m \u001b[1;33m**\u001b[0m\u001b[0mkwargs\u001b[0m\u001b[1;33m)\u001b[0m\u001b[1;33m\u001b[0m\u001b[1;33m\u001b[0m\u001b[0m\n",
      "\u001b[1;32m~\\AppData\\Roaming\\Python\\Python38\\site-packages\\retentioneering\\core\\core_functions\\extract_features.py\u001b[0m in \u001b[0;36m_learn_tsne\u001b[1;34m(data, **kwargs)\u001b[0m\n\u001b[0;32m    154\u001b[0m \u001b[1;33m\u001b[0m\u001b[0m\n\u001b[0;32m    155\u001b[0m     \u001b[0mkwargs\u001b[0m \u001b[1;33m=\u001b[0m \u001b[1;33m{\u001b[0m\u001b[0mk\u001b[0m\u001b[1;33m:\u001b[0m \u001b[0mv\u001b[0m \u001b[1;32mfor\u001b[0m \u001b[0mk\u001b[0m\u001b[1;33m,\u001b[0m \u001b[0mv\u001b[0m \u001b[1;32min\u001b[0m \u001b[0mkwargs\u001b[0m\u001b[1;33m.\u001b[0m\u001b[0mitems\u001b[0m\u001b[1;33m(\u001b[0m\u001b[1;33m)\u001b[0m \u001b[1;32mif\u001b[0m \u001b[0mk\u001b[0m \u001b[1;32min\u001b[0m \u001b[0mTSNE_PARAMS\u001b[0m\u001b[1;33m}\u001b[0m\u001b[1;33m\u001b[0m\u001b[1;33m\u001b[0m\u001b[0m\n\u001b[1;32m--> 156\u001b[1;33m     \u001b[0mres\u001b[0m \u001b[1;33m=\u001b[0m \u001b[0mTSNE\u001b[0m\u001b[1;33m(\u001b[0m\u001b[0mrandom_state\u001b[0m\u001b[1;33m=\u001b[0m\u001b[1;36m0\u001b[0m\u001b[1;33m,\u001b[0m \u001b[1;33m**\u001b[0m\u001b[0mkwargs\u001b[0m\u001b[1;33m)\u001b[0m\u001b[1;33m.\u001b[0m\u001b[0mfit_transform\u001b[0m\u001b[1;33m(\u001b[0m\u001b[0mdata\u001b[0m\u001b[1;33m.\u001b[0m\u001b[0mvalues\u001b[0m\u001b[1;33m)\u001b[0m\u001b[1;33m\u001b[0m\u001b[1;33m\u001b[0m\u001b[0m\n\u001b[0m\u001b[0;32m    157\u001b[0m     \u001b[1;32mreturn\u001b[0m \u001b[0mpd\u001b[0m\u001b[1;33m.\u001b[0m\u001b[0mDataFrame\u001b[0m\u001b[1;33m(\u001b[0m\u001b[0mres\u001b[0m\u001b[1;33m,\u001b[0m \u001b[0mindex\u001b[0m\u001b[1;33m=\u001b[0m\u001b[0mdata\u001b[0m\u001b[1;33m.\u001b[0m\u001b[0mindex\u001b[0m\u001b[1;33m.\u001b[0m\u001b[0mvalues\u001b[0m\u001b[1;33m)\u001b[0m\u001b[1;33m\u001b[0m\u001b[1;33m\u001b[0m\u001b[0m\n\u001b[0;32m    158\u001b[0m \u001b[1;33m\u001b[0m\u001b[0m\n",
      "\u001b[1;32m~\\anaconda3\\envs\\diplomenv\\lib\\site-packages\\sklearn\\manifold\\_t_sne.py\u001b[0m in \u001b[0;36mfit_transform\u001b[1;34m(self, X, y)\u001b[0m\n\u001b[0;32m   1106\u001b[0m             \u001b[0mEmbedding\u001b[0m \u001b[0mof\u001b[0m \u001b[0mthe\u001b[0m \u001b[0mtraining\u001b[0m \u001b[0mdata\u001b[0m \u001b[1;32min\u001b[0m \u001b[0mlow\u001b[0m\u001b[1;33m-\u001b[0m\u001b[0mdimensional\u001b[0m \u001b[0mspace\u001b[0m\u001b[1;33m.\u001b[0m\u001b[1;33m\u001b[0m\u001b[1;33m\u001b[0m\u001b[0m\n\u001b[0;32m   1107\u001b[0m         \"\"\"\n\u001b[1;32m-> 1108\u001b[1;33m         \u001b[0membedding\u001b[0m \u001b[1;33m=\u001b[0m \u001b[0mself\u001b[0m\u001b[1;33m.\u001b[0m\u001b[0m_fit\u001b[0m\u001b[1;33m(\u001b[0m\u001b[0mX\u001b[0m\u001b[1;33m)\u001b[0m\u001b[1;33m\u001b[0m\u001b[1;33m\u001b[0m\u001b[0m\n\u001b[0m\u001b[0;32m   1109\u001b[0m         \u001b[0mself\u001b[0m\u001b[1;33m.\u001b[0m\u001b[0membedding_\u001b[0m \u001b[1;33m=\u001b[0m \u001b[0membedding\u001b[0m\u001b[1;33m\u001b[0m\u001b[1;33m\u001b[0m\u001b[0m\n\u001b[0;32m   1110\u001b[0m         \u001b[1;32mreturn\u001b[0m \u001b[0mself\u001b[0m\u001b[1;33m.\u001b[0m\u001b[0membedding_\u001b[0m\u001b[1;33m\u001b[0m\u001b[1;33m\u001b[0m\u001b[0m\n",
      "\u001b[1;32m~\\anaconda3\\envs\\diplomenv\\lib\\site-packages\\sklearn\\manifold\\_t_sne.py\u001b[0m in \u001b[0;36m_fit\u001b[1;34m(self, X, skip_num_points)\u001b[0m\n\u001b[0;32m    945\u001b[0m \u001b[1;33m\u001b[0m\u001b[0m\n\u001b[0;32m    946\u001b[0m             \u001b[0mt0\u001b[0m \u001b[1;33m=\u001b[0m \u001b[0mtime\u001b[0m\u001b[1;33m(\u001b[0m\u001b[1;33m)\u001b[0m\u001b[1;33m\u001b[0m\u001b[1;33m\u001b[0m\u001b[0m\n\u001b[1;32m--> 947\u001b[1;33m             \u001b[0mdistances_nn\u001b[0m \u001b[1;33m=\u001b[0m \u001b[0mknn\u001b[0m\u001b[1;33m.\u001b[0m\u001b[0mkneighbors_graph\u001b[0m\u001b[1;33m(\u001b[0m\u001b[0mmode\u001b[0m\u001b[1;33m=\u001b[0m\u001b[1;34m\"distance\"\u001b[0m\u001b[1;33m)\u001b[0m\u001b[1;33m\u001b[0m\u001b[1;33m\u001b[0m\u001b[0m\n\u001b[0m\u001b[0;32m    948\u001b[0m             \u001b[0mduration\u001b[0m \u001b[1;33m=\u001b[0m \u001b[0mtime\u001b[0m\u001b[1;33m(\u001b[0m\u001b[1;33m)\u001b[0m \u001b[1;33m-\u001b[0m \u001b[0mt0\u001b[0m\u001b[1;33m\u001b[0m\u001b[1;33m\u001b[0m\u001b[0m\n\u001b[0;32m    949\u001b[0m             \u001b[1;32mif\u001b[0m \u001b[0mself\u001b[0m\u001b[1;33m.\u001b[0m\u001b[0mverbose\u001b[0m\u001b[1;33m:\u001b[0m\u001b[1;33m\u001b[0m\u001b[1;33m\u001b[0m\u001b[0m\n",
      "\u001b[1;32m~\\anaconda3\\envs\\diplomenv\\lib\\site-packages\\sklearn\\neighbors\\_base.py\u001b[0m in \u001b[0;36mkneighbors_graph\u001b[1;34m(self, X, n_neighbors, mode)\u001b[0m\n\u001b[0;32m    884\u001b[0m \u001b[1;33m\u001b[0m\u001b[0m\n\u001b[0;32m    885\u001b[0m         \u001b[1;32melif\u001b[0m \u001b[0mmode\u001b[0m \u001b[1;33m==\u001b[0m \u001b[1;34m\"distance\"\u001b[0m\u001b[1;33m:\u001b[0m\u001b[1;33m\u001b[0m\u001b[1;33m\u001b[0m\u001b[0m\n\u001b[1;32m--> 886\u001b[1;33m             \u001b[0mA_data\u001b[0m\u001b[1;33m,\u001b[0m \u001b[0mA_ind\u001b[0m \u001b[1;33m=\u001b[0m \u001b[0mself\u001b[0m\u001b[1;33m.\u001b[0m\u001b[0mkneighbors\u001b[0m\u001b[1;33m(\u001b[0m\u001b[0mX\u001b[0m\u001b[1;33m,\u001b[0m \u001b[0mn_neighbors\u001b[0m\u001b[1;33m,\u001b[0m \u001b[0mreturn_distance\u001b[0m\u001b[1;33m=\u001b[0m\u001b[1;32mTrue\u001b[0m\u001b[1;33m)\u001b[0m\u001b[1;33m\u001b[0m\u001b[1;33m\u001b[0m\u001b[0m\n\u001b[0m\u001b[0;32m    887\u001b[0m             \u001b[0mA_data\u001b[0m \u001b[1;33m=\u001b[0m \u001b[0mnp\u001b[0m\u001b[1;33m.\u001b[0m\u001b[0mravel\u001b[0m\u001b[1;33m(\u001b[0m\u001b[0mA_data\u001b[0m\u001b[1;33m)\u001b[0m\u001b[1;33m\u001b[0m\u001b[1;33m\u001b[0m\u001b[0m\n\u001b[0;32m    888\u001b[0m \u001b[1;33m\u001b[0m\u001b[0m\n",
      "\u001b[1;32m~\\anaconda3\\envs\\diplomenv\\lib\\site-packages\\sklearn\\neighbors\\_base.py\u001b[0m in \u001b[0;36mkneighbors\u001b[1;34m(self, X, n_neighbors, return_distance)\u001b[0m\n\u001b[0;32m    750\u001b[0m                 \u001b[0mkwds\u001b[0m \u001b[1;33m=\u001b[0m \u001b[0mself\u001b[0m\u001b[1;33m.\u001b[0m\u001b[0meffective_metric_params_\u001b[0m\u001b[1;33m\u001b[0m\u001b[1;33m\u001b[0m\u001b[0m\n\u001b[0;32m    751\u001b[0m \u001b[1;33m\u001b[0m\u001b[0m\n\u001b[1;32m--> 752\u001b[1;33m             chunked_results = list(\n\u001b[0m\u001b[0;32m    753\u001b[0m                 pairwise_distances_chunked(\n\u001b[0;32m    754\u001b[0m                     \u001b[0mX\u001b[0m\u001b[1;33m,\u001b[0m\u001b[1;33m\u001b[0m\u001b[1;33m\u001b[0m\u001b[0m\n",
      "\u001b[1;32m~\\anaconda3\\envs\\diplomenv\\lib\\site-packages\\sklearn\\metrics\\pairwise.py\u001b[0m in \u001b[0;36mpairwise_distances_chunked\u001b[1;34m(X, Y, reduce_func, metric, n_jobs, working_memory, **kwds)\u001b[0m\n\u001b[0;32m   1724\u001b[0m         \u001b[1;32mif\u001b[0m \u001b[0mreduce_func\u001b[0m \u001b[1;32mis\u001b[0m \u001b[1;32mnot\u001b[0m \u001b[1;32mNone\u001b[0m\u001b[1;33m:\u001b[0m\u001b[1;33m\u001b[0m\u001b[1;33m\u001b[0m\u001b[0m\n\u001b[0;32m   1725\u001b[0m             \u001b[0mchunk_size\u001b[0m \u001b[1;33m=\u001b[0m \u001b[0mD_chunk\u001b[0m\u001b[1;33m.\u001b[0m\u001b[0mshape\u001b[0m\u001b[1;33m[\u001b[0m\u001b[1;36m0\u001b[0m\u001b[1;33m]\u001b[0m\u001b[1;33m\u001b[0m\u001b[1;33m\u001b[0m\u001b[0m\n\u001b[1;32m-> 1726\u001b[1;33m             \u001b[0mD_chunk\u001b[0m \u001b[1;33m=\u001b[0m \u001b[0mreduce_func\u001b[0m\u001b[1;33m(\u001b[0m\u001b[0mD_chunk\u001b[0m\u001b[1;33m,\u001b[0m \u001b[0msl\u001b[0m\u001b[1;33m.\u001b[0m\u001b[0mstart\u001b[0m\u001b[1;33m)\u001b[0m\u001b[1;33m\u001b[0m\u001b[1;33m\u001b[0m\u001b[0m\n\u001b[0m\u001b[0;32m   1727\u001b[0m             \u001b[0m_check_chunk_size\u001b[0m\u001b[1;33m(\u001b[0m\u001b[0mD_chunk\u001b[0m\u001b[1;33m,\u001b[0m \u001b[0mchunk_size\u001b[0m\u001b[1;33m)\u001b[0m\u001b[1;33m\u001b[0m\u001b[1;33m\u001b[0m\u001b[0m\n\u001b[0;32m   1728\u001b[0m         \u001b[1;32myield\u001b[0m \u001b[0mD_chunk\u001b[0m\u001b[1;33m\u001b[0m\u001b[1;33m\u001b[0m\u001b[0m\n",
      "\u001b[1;32m~\\anaconda3\\envs\\diplomenv\\lib\\site-packages\\sklearn\\neighbors\\_base.py\u001b[0m in \u001b[0;36m_kneighbors_reduce_func\u001b[1;34m(self, dist, start, n_neighbors, return_distance)\u001b[0m\n\u001b[0;32m    632\u001b[0m         \"\"\"\n\u001b[0;32m    633\u001b[0m         \u001b[0msample_range\u001b[0m \u001b[1;33m=\u001b[0m \u001b[0mnp\u001b[0m\u001b[1;33m.\u001b[0m\u001b[0marange\u001b[0m\u001b[1;33m(\u001b[0m\u001b[0mdist\u001b[0m\u001b[1;33m.\u001b[0m\u001b[0mshape\u001b[0m\u001b[1;33m[\u001b[0m\u001b[1;36m0\u001b[0m\u001b[1;33m]\u001b[0m\u001b[1;33m)\u001b[0m\u001b[1;33m[\u001b[0m\u001b[1;33m:\u001b[0m\u001b[1;33m,\u001b[0m \u001b[1;32mNone\u001b[0m\u001b[1;33m]\u001b[0m\u001b[1;33m\u001b[0m\u001b[1;33m\u001b[0m\u001b[0m\n\u001b[1;32m--> 634\u001b[1;33m         \u001b[0mneigh_ind\u001b[0m \u001b[1;33m=\u001b[0m \u001b[0mnp\u001b[0m\u001b[1;33m.\u001b[0m\u001b[0margpartition\u001b[0m\u001b[1;33m(\u001b[0m\u001b[0mdist\u001b[0m\u001b[1;33m,\u001b[0m \u001b[0mn_neighbors\u001b[0m \u001b[1;33m-\u001b[0m \u001b[1;36m1\u001b[0m\u001b[1;33m,\u001b[0m \u001b[0maxis\u001b[0m\u001b[1;33m=\u001b[0m\u001b[1;36m1\u001b[0m\u001b[1;33m)\u001b[0m\u001b[1;33m\u001b[0m\u001b[1;33m\u001b[0m\u001b[0m\n\u001b[0m\u001b[0;32m    635\u001b[0m         \u001b[0mneigh_ind\u001b[0m \u001b[1;33m=\u001b[0m \u001b[0mneigh_ind\u001b[0m\u001b[1;33m[\u001b[0m\u001b[1;33m:\u001b[0m\u001b[1;33m,\u001b[0m \u001b[1;33m:\u001b[0m\u001b[0mn_neighbors\u001b[0m\u001b[1;33m]\u001b[0m\u001b[1;33m\u001b[0m\u001b[1;33m\u001b[0m\u001b[0m\n\u001b[0;32m    636\u001b[0m         \u001b[1;31m# argpartition doesn't guarantee sorted order, so we sort again\u001b[0m\u001b[1;33m\u001b[0m\u001b[1;33m\u001b[0m\u001b[1;33m\u001b[0m\u001b[0m\n",
      "\u001b[1;32m<__array_function__ internals>\u001b[0m in \u001b[0;36margpartition\u001b[1;34m(*args, **kwargs)\u001b[0m\n",
      "\u001b[1;32m~\\anaconda3\\envs\\diplomenv\\lib\\site-packages\\numpy\\core\\fromnumeric.py\u001b[0m in \u001b[0;36margpartition\u001b[1;34m(a, kth, axis, kind, order)\u001b[0m\n\u001b[0;32m    830\u001b[0m \u001b[1;33m\u001b[0m\u001b[0m\n\u001b[0;32m    831\u001b[0m     \"\"\"\n\u001b[1;32m--> 832\u001b[1;33m     \u001b[1;32mreturn\u001b[0m \u001b[0m_wrapfunc\u001b[0m\u001b[1;33m(\u001b[0m\u001b[0ma\u001b[0m\u001b[1;33m,\u001b[0m \u001b[1;34m'argpartition'\u001b[0m\u001b[1;33m,\u001b[0m \u001b[0mkth\u001b[0m\u001b[1;33m,\u001b[0m \u001b[0maxis\u001b[0m\u001b[1;33m=\u001b[0m\u001b[0maxis\u001b[0m\u001b[1;33m,\u001b[0m \u001b[0mkind\u001b[0m\u001b[1;33m=\u001b[0m\u001b[0mkind\u001b[0m\u001b[1;33m,\u001b[0m \u001b[0morder\u001b[0m\u001b[1;33m=\u001b[0m\u001b[0morder\u001b[0m\u001b[1;33m)\u001b[0m\u001b[1;33m\u001b[0m\u001b[1;33m\u001b[0m\u001b[0m\n\u001b[0m\u001b[0;32m    833\u001b[0m \u001b[1;33m\u001b[0m\u001b[0m\n\u001b[0;32m    834\u001b[0m \u001b[1;33m\u001b[0m\u001b[0m\n",
      "\u001b[1;32m~\\anaconda3\\envs\\diplomenv\\lib\\site-packages\\numpy\\core\\fromnumeric.py\u001b[0m in \u001b[0;36m_wrapfunc\u001b[1;34m(obj, method, *args, **kwds)\u001b[0m\n\u001b[0;32m     56\u001b[0m \u001b[1;33m\u001b[0m\u001b[0m\n\u001b[0;32m     57\u001b[0m     \u001b[1;32mtry\u001b[0m\u001b[1;33m:\u001b[0m\u001b[1;33m\u001b[0m\u001b[1;33m\u001b[0m\u001b[0m\n\u001b[1;32m---> 58\u001b[1;33m         \u001b[1;32mreturn\u001b[0m \u001b[0mbound\u001b[0m\u001b[1;33m(\u001b[0m\u001b[1;33m*\u001b[0m\u001b[0margs\u001b[0m\u001b[1;33m,\u001b[0m \u001b[1;33m**\u001b[0m\u001b[0mkwds\u001b[0m\u001b[1;33m)\u001b[0m\u001b[1;33m\u001b[0m\u001b[1;33m\u001b[0m\u001b[0m\n\u001b[0m\u001b[0;32m     59\u001b[0m     \u001b[1;32mexcept\u001b[0m \u001b[0mTypeError\u001b[0m\u001b[1;33m:\u001b[0m\u001b[1;33m\u001b[0m\u001b[1;33m\u001b[0m\u001b[0m\n\u001b[0;32m     60\u001b[0m         \u001b[1;31m# A TypeError occurs if the object does have such a method in its\u001b[0m\u001b[1;33m\u001b[0m\u001b[1;33m\u001b[0m\u001b[1;33m\u001b[0m\u001b[0m\n",
      "\u001b[1;31mKeyboardInterrupt\u001b[0m: "
     ]
    }
   ],
   "source": [
    "\n",
    "df_projection = data.rete.project(plot_type ='clusters',\n",
    "                                  method='tsne',\n",
    "                                  perplexity=128);"
   ]
  },
  {
   "cell_type": "code",
   "execution_count": 17,
   "id": "ae9ee7b8",
   "metadata": {},
   "outputs": [],
   "source": [
    "# data.rete.get_clusters(method='gmm',\n",
    "#                        n_clusters=8,\n",
    "#                        feature_type='tfidf');\n"
   ]
  },
  {
   "cell_type": "code",
   "execution_count": 18,
   "id": "2fc1c880",
   "metadata": {},
   "outputs": [],
   "source": [
    "\n",
    "# data.rete.project(plot_type='clusters',\n",
    "#                   method='tsne',\n",
    "#                   perplexity=128);"
   ]
  },
  {
   "cell_type": "code",
   "execution_count": 19,
   "id": "87ed94ab",
   "metadata": {},
   "outputs": [],
   "source": [
    "data.rete.clusters.tofile('gmm_clusterization.txt', sep=',')"
   ]
  },
  {
   "cell_type": "code",
   "execution_count": 20,
   "id": "fd648d14",
   "metadata": {},
   "outputs": [
    {
     "data": {
      "text/plain": [
       "array([4., 6., 6., ..., 2., 2., 4.])"
      ]
     },
     "execution_count": 20,
     "metadata": {},
     "output_type": "execute_result"
    }
   ],
   "source": [
    "clusters = np.loadtxt('gmm_clusterization.txt', delimiter=',')\n",
    "clusters"
   ]
  },
  {
   "cell_type": "code",
   "execution_count": 21,
   "id": "be1e9ef3",
   "metadata": {},
   "outputs": [],
   "source": [
    "clus_0 = data.rete.filter_cluster(0)"
   ]
  },
  {
   "cell_type": "code",
   "execution_count": 22,
   "id": "de940e81",
   "metadata": {},
   "outputs": [
    {
     "data": {
      "text/html": [
       "\n",
       "        <iframe\n",
       "            width=\"1000\"\n",
       "            height=\"700\"\n",
       "            src=\"experiments/graph_2022-05-02 00_51_25_937608.html\"\n",
       "            frameborder=\"0\"\n",
       "            allowfullscreen\n",
       "            \n",
       "        ></iframe>\n",
       "        "
      ],
      "text/plain": [
       "<IPython.lib.display.IFrame at 0x164831cbe20>"
      ]
     },
     "metadata": {},
     "output_type": "display_data"
    },
    {
     "data": {
      "text/plain": [
       "'experiments/graph_2022-05-02 00_51_25_937608.html'"
      ]
     },
     "execution_count": 22,
     "metadata": {},
     "output_type": "execute_result"
    }
   ],
   "source": [
    "clus_0.rete.plot_graph(thresh=0.1,\n",
    "                       weight_col='user_hash',\n",
    "                       targets = {'completed_topic':'red',\n",
    "                                  'created_comment':'green'})"
   ]
  },
  {
   "cell_type": "code",
   "execution_count": 23,
   "id": "766591e5",
   "metadata": {
    "scrolled": false
   },
   "outputs": [
    {
     "name": "stdout",
     "output_type": "stream",
     "text": [
      "\n",
      "\n",
      "\n",
      "Cluster 0\n"
     ]
    },
    {
     "data": {
      "text/html": [
       "\n",
       "        <iframe\n",
       "            width=\"1000\"\n",
       "            height=\"700\"\n",
       "            src=\"experiments/graph_2022-05-02 00_51_26_931042.html\"\n",
       "            frameborder=\"0\"\n",
       "            allowfullscreen\n",
       "            \n",
       "        ></iframe>\n",
       "        "
      ],
      "text/plain": [
       "<IPython.lib.display.IFrame at 0x1648315a070>"
      ]
     },
     "metadata": {},
     "output_type": "display_data"
    },
    {
     "name": "stdout",
     "output_type": "stream",
     "text": [
      "\n",
      "\n",
      "\n",
      "Cluster 1\n"
     ]
    },
    {
     "data": {
      "text/html": [
       "\n",
       "        <iframe\n",
       "            width=\"1000\"\n",
       "            height=\"700\"\n",
       "            src=\"experiments/graph_2022-05-02 00_52_21_084029.html\"\n",
       "            frameborder=\"0\"\n",
       "            allowfullscreen\n",
       "            \n",
       "        ></iframe>\n",
       "        "
      ],
      "text/plain": [
       "<IPython.lib.display.IFrame at 0x164cc09dc10>"
      ]
     },
     "metadata": {},
     "output_type": "display_data"
    },
    {
     "name": "stdout",
     "output_type": "stream",
     "text": [
      "\n",
      "\n",
      "\n",
      "Cluster 2\n"
     ]
    },
    {
     "data": {
      "text/html": [
       "\n",
       "        <iframe\n",
       "            width=\"1000\"\n",
       "            height=\"700\"\n",
       "            src=\"experiments/graph_2022-05-02 00_52_22_354878.html\"\n",
       "            frameborder=\"0\"\n",
       "            allowfullscreen\n",
       "            \n",
       "        ></iframe>\n",
       "        "
      ],
      "text/plain": [
       "<IPython.lib.display.IFrame at 0x164831cb940>"
      ]
     },
     "metadata": {},
     "output_type": "display_data"
    },
    {
     "name": "stdout",
     "output_type": "stream",
     "text": [
      "\n",
      "\n",
      "\n",
      "Cluster 3\n"
     ]
    },
    {
     "data": {
      "text/html": [
       "\n",
       "        <iframe\n",
       "            width=\"1000\"\n",
       "            height=\"700\"\n",
       "            src=\"experiments/graph_2022-05-02 00_52_23_575480.html\"\n",
       "            frameborder=\"0\"\n",
       "            allowfullscreen\n",
       "            \n",
       "        ></iframe>\n",
       "        "
      ],
      "text/plain": [
       "<IPython.lib.display.IFrame at 0x1648315a2b0>"
      ]
     },
     "metadata": {},
     "output_type": "display_data"
    },
    {
     "name": "stdout",
     "output_type": "stream",
     "text": [
      "\n",
      "\n",
      "\n",
      "Cluster 4\n"
     ]
    },
    {
     "data": {
      "text/html": [
       "\n",
       "        <iframe\n",
       "            width=\"1000\"\n",
       "            height=\"700\"\n",
       "            src=\"experiments/graph_2022-05-02 00_52_49_713859.html\"\n",
       "            frameborder=\"0\"\n",
       "            allowfullscreen\n",
       "            \n",
       "        ></iframe>\n",
       "        "
      ],
      "text/plain": [
       "<IPython.lib.display.IFrame at 0x164cc09d3a0>"
      ]
     },
     "metadata": {},
     "output_type": "display_data"
    },
    {
     "name": "stdout",
     "output_type": "stream",
     "text": [
      "\n",
      "\n",
      "\n",
      "Cluster 5\n"
     ]
    },
    {
     "data": {
      "text/html": [
       "\n",
       "        <iframe\n",
       "            width=\"1000\"\n",
       "            height=\"700\"\n",
       "            src=\"experiments/graph_2022-05-02 00_52_50_786189.html\"\n",
       "            frameborder=\"0\"\n",
       "            allowfullscreen\n",
       "            \n",
       "        ></iframe>\n",
       "        "
      ],
      "text/plain": [
       "<IPython.lib.display.IFrame at 0x1648315a7f0>"
      ]
     },
     "metadata": {},
     "output_type": "display_data"
    },
    {
     "name": "stdout",
     "output_type": "stream",
     "text": [
      "\n",
      "\n",
      "\n",
      "Cluster 6\n"
     ]
    },
    {
     "data": {
      "text/html": [
       "\n",
       "        <iframe\n",
       "            width=\"1000\"\n",
       "            height=\"700\"\n",
       "            src=\"experiments/graph_2022-05-02 00_52_52_392331.html\"\n",
       "            frameborder=\"0\"\n",
       "            allowfullscreen\n",
       "            \n",
       "        ></iframe>\n",
       "        "
      ],
      "text/plain": [
       "<IPython.lib.display.IFrame at 0x1648315adf0>"
      ]
     },
     "metadata": {},
     "output_type": "display_data"
    },
    {
     "name": "stdout",
     "output_type": "stream",
     "text": [
      "\n",
      "\n",
      "\n",
      "Cluster 7\n"
     ]
    },
    {
     "data": {
      "text/html": [
       "\n",
       "        <iframe\n",
       "            width=\"1000\"\n",
       "            height=\"700\"\n",
       "            src=\"experiments/graph_2022-05-02 00_52_53_724751.html\"\n",
       "            frameborder=\"0\"\n",
       "            allowfullscreen\n",
       "            \n",
       "        ></iframe>\n",
       "        "
      ],
      "text/plain": [
       "<IPython.lib.display.IFrame at 0x164811cda60>"
      ]
     },
     "metadata": {},
     "output_type": "display_data"
    }
   ],
   "source": [
    "for clus in set(data.rete.clusters):\n",
    "    print(f'\\n\\n\\nCluster {clus}')\n",
    "    data.rete.filter_cluster(clus).rete.plot_graph(thresh=0.1,\n",
    "                       weight_col='user_hash',\n",
    "                       targets = {'completed_topic':'red',\n",
    "                                  'created_comment':'green'})"
   ]
  },
  {
   "cell_type": "code",
   "execution_count": null,
   "id": "ff7aaacb",
   "metadata": {},
   "outputs": [],
   "source": []
  }
 ],
 "metadata": {
  "kernelspec": {
   "display_name": "diplomenv",
   "language": "python",
   "name": "diplomenv"
  },
  "language_info": {
   "codemirror_mode": {
    "name": "ipython",
    "version": 3
   },
   "file_extension": ".py",
   "mimetype": "text/x-python",
   "name": "python",
   "nbconvert_exporter": "python",
   "pygments_lexer": "ipython3",
   "version": "3.8.12"
  }
 },
 "nbformat": 4,
 "nbformat_minor": 5
}
